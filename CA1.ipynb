{
 "cells": [
  {
   "cell_type": "code",
   "execution_count": null,
   "metadata": {},
   "outputs": [],
   "source": [
    "# execute this cell before you start\n",
    "\n",
    "import tensorflow as tf\n",
    "import tensorflow.keras\n",
    "\n",
    "# Helper libraries\n",
    "import numpy as np\n",
    "import matplotlib.pyplot as plt\n",
    "\n",
    "\n",
    "print(tf.__version__)\n",
    "print(tf.keras.__version__)\n"
   ]
  },
  {
   "cell_type": "markdown",
   "metadata": {},
   "source": [
    "#  CA1\n",
    "\n",
    "to submit the assignment, please do the following:\n",
    "\n",
    "- make sure that the notebook runs through and produces all desired output after `Kernel -> Restart & Run all`\n",
    "- running through the whole notebook must not take no more than 60 minutes on a standard computer, similar to our lab-computers, without GPU and 8GB of RAM\n",
    "- similarly, no cell must take longer than 10 minutes \n",
    "- do `Cell -> All output -> Clear` to clear all your output\n",
    "- save the notebook (CA1.ipynb)\n",
    "- upload the file `CA1.ipynb` to canvas.\n",
    "- note that Google Colab ipynb files do not work with the nbgrader system I use to grade assignments and are therefore not allowed. \n",
    "- Please use markdown cells extensively, as you receive marks for explaining your observations.  Show your understanding!\n",
    "- If you only use code cells, you do not receive marks.\n",
    "- It is fine (but not required) to look for code on the Internet, in particular as a starting point.  However, this must be explicitly documented! You need to precisely say, which sources you used.  You do not need to cite code taken from the lecture notes, however, you need to cite, if you use code which is linked or cited in the lecture notes.\n"
   ]
  },
  {
   "cell_type": "markdown",
   "metadata": {},
   "source": [
    "# Q1 The MNIST data\n",
    "\n",
    "It seems that no course on Machine Learning is complete, without training a network on the famous [MNIST dataset](https://en.wikipedia.org/wiki/MNIST_database) of handwritten digits.  You can access them through `keras.datasets.mnist.load_data()`.\n",
    "\n",
    "The tasks for the first assignment is therefore:"
   ]
  },
  {
   "cell_type": "markdown",
   "metadata": {
    "deletable": false,
    "editable": false,
    "nbgrader": {
     "cell_type": "markdown",
     "checksum": "19072c980585acb866911dcc6f82d991",
     "grade": false,
     "grade_id": "cell-7b393e5e40c7fc98",
     "locked": true,
     "points": 2,
     "schema_version": 3,
     "solution": false,
     "task": true
    }
   },
   "source": [
    "a) (2 marks) Reproduce the results of L03, but now use the original MNIST dataset.  Comment on your observations on the differences between the datasets."
   ]
  },
  {
   "cell_type": "markdown",
   "metadata": {
    "deletable": false,
    "editable": false,
    "nbgrader": {
     "cell_type": "markdown",
     "checksum": "4632a34d2a1ba854f05a9166ec172fe1",
     "grade": false,
     "grade_id": "cell-4b35628262000e69",
     "locked": true,
     "points": 5,
     "schema_version": 3,
     "solution": false,
     "task": true
    }
   },
   "source": [
    "b) (5 marks) How can you improve the performance of the network? Here some suggestions of what you can try\n",
    "   - Change the number of nodes in the hidden layer\n",
    "   - Use a different loss function\n",
    "   - Use a different optimizer\n",
    "   - change the number of epochs\n",
    "   - change the batch size\n",
    "   - play with a dropout layer\n",
    "   - work with two hidden layers\n",
    "   - work with three hidden layers\n",
    "   \n",
    "Explain the effect of changing parameters in your own words and draw conclusions about how performance improves.  The mark for this part will depend on the overall insight demonstrated.  Code alone does not yield marks. \n",
    "Note that one aspect of performance is required training time.  Do not use code cells which take longer than 10 minutes to run on standard CPU based hardware. (Also don't use code which exceeds standard memory requirements of about 8GB RAM, but that should not be an issure here)\n",
    "\n"
   ]
  },
  {
   "cell_type": "markdown",
   "metadata": {
    "deletable": false,
    "editable": false,
    "nbgrader": {
     "cell_type": "markdown",
     "checksum": "b802f582a3f8f85a5234b8ebea3a7342",
     "grade": false,
     "grade_id": "cell-c7f08300af4ff729",
     "locked": true,
     "points": 3,
     "schema_version": 3,
     "solution": false,
     "task": true
    }
   },
   "source": [
    "c) (3 marks) Write your student number on paper and take a photo. How well are the individual digits recognized? (Hint: you need to convert the photo first into the desired format, and there are many ways to do this.  You are expected \n",
    "to read up on a suitable way yourself, and describe how you did it.)\n",
    "\n"
   ]
  },
  {
   "cell_type": "markdown",
   "metadata": {
    "deletable": false,
    "editable": false,
    "nbgrader": {
     "cell_type": "markdown",
     "checksum": "286c5b2f24597a81fc945d8492c914f9",
     "grade": false,
     "grade_id": "cell-bbad7f0cbc43fccf",
     "locked": true,
     "points": 10,
     "schema_version": 3,
     "solution": false,
     "task": true
    }
   },
   "source": [
    "# Q2 The Reuters newswire data\n",
    "\n",
    "(10 points)\n",
    "\n",
    "Consider the data in  `tensorflow.keras.datasets.reuters` and train a network which reliably categorizes the newswires.  \n",
    "\n",
    "Hints: \n",
    "- some general explanations of all the datasets included in Keras is here: https://keras.io/datasets/\n",
    "After `from tensorflow.keras.datasets import reuters` you can get the dataset and the word index with through `reuters.get_word_index()` and `reuters.load_data()`.  The training labels correspond to different topics for each newswire.  The list of topics can be found here: https://github.com/keras-team/keras/issues/12072. \n",
    "- Always look at your data, before you feed it into a network!\n",
    "- Coherence of presentation is key.  Provide explanations of what you are doing and why you are doing it. \n",
    "- Note that it is expected and allowed to obtain inspiration for solving this task from the Internet. However, all sources need to be clearly cited!  \n",
    "- Provide coherent explanations on what improves performance or not. \n",
    "- Code without explanation will not yield points. \n",
    "\n"
   ]
  },
  {
   "cell_type": "code",
   "execution_count": null,
   "metadata": {},
   "outputs": [],
   "source": []
  }
 ],
 "metadata": {
  "kernelspec": {
   "display_name": "Python 3 (ipykernel)",
   "language": "python",
   "name": "python3"
  },
  "language_info": {
   "codemirror_mode": {
    "name": "ipython",
    "version": 3
   },
   "file_extension": ".py",
   "mimetype": "text/x-python",
   "name": "python",
   "nbconvert_exporter": "python",
   "pygments_lexer": "ipython3",
   "version": "3.10.2"
  }
 },
 "nbformat": 4,
 "nbformat_minor": 2
}
