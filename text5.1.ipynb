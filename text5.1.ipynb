{
 "cells": [
  {
   "cell_type": "code",
   "execution_count": 1,
   "id": "332b1880",
   "metadata": {},
   "outputs": [
    {
     "name": "stdout",
     "output_type": "stream",
     "text": [
      "2.12.0\n",
      "2.12.0\n"
     ]
    }
   ],
   "source": [
    "# execute this cell before you start\n",
    "\n",
    "import tensorflow as tf\n",
    "import tensorflow.keras as keras\n",
    "\n",
    "# Helper libraries\n",
    "import numpy as np\n",
    "import matplotlib.pyplot as plt\n",
    "\n",
    "\n",
    "print(tf.__version__)\n",
    "print(tf.keras.__version__)"
   ]
  },
  {
   "cell_type": "markdown",
   "id": "bb2d01d9",
   "metadata": {},
   "source": [
    "# The Reuters newswire data\n",
    "\n",
    "Consider the data in  `tensorflow.keras.datasets.reuters` and train a network which reliably categorizes the newswires.  \n",
    "\n",
    "Hints: \n",
    "- some general explanations of all the datasets included in Keras is here: https://keras.io/datasets/\n",
    "After `from tensorflow.keras.datasets import reuters` you can get the dataset and the word index with through `reuters.get_word_index()` and `reuters.load_data()`.  The training labels correspond to different topics for each newswire.  The list of topics can be found here: https://github.com/keras-team/keras/issues/12072. \n",
    "\\\n"
   ]
  },
  {
   "cell_type": "markdown",
   "id": "1de70059",
   "metadata": {},
   "source": [
    "###  Download reuters dataset and created four numpy arrays which contains the data. The data is split into training and testing data."
   ]
  },
  {
   "cell_type": "code",
   "execution_count": 2,
   "id": "6c5eb1d2",
   "metadata": {},
   "outputs": [],
   "source": [
    "reuters = keras.datasets.reuters\n",
    "\n",
    "(train_data, train_labels), (test_data, test_labels) = reuters.load_data()"
   ]
  },
  {
   "cell_type": "markdown",
   "id": "41d306e4",
   "metadata": {},
   "source": [
    "### Check the data type, lengths, shape and look at each data set."
   ]
  },
  {
   "cell_type": "code",
   "execution_count": 3,
   "id": "5e8c66c5",
   "metadata": {},
   "outputs": [
    {
     "data": {
      "text/plain": [
       "(numpy.ndarray, (8982,))"
      ]
     },
     "execution_count": 3,
     "metadata": {},
     "output_type": "execute_result"
    }
   ],
   "source": [
    "type(train_data), train_data.shape"
   ]
  },
  {
   "cell_type": "code",
   "execution_count": 4,
   "id": "0bf67839",
   "metadata": {},
   "outputs": [
    {
     "data": {
      "text/plain": [
       "tuple"
      ]
     },
     "execution_count": 4,
     "metadata": {},
     "output_type": "execute_result"
    }
   ],
   "source": [
    "type(reuters.load_data())"
   ]
  },
  {
   "cell_type": "code",
   "execution_count": 5,
   "id": "046d444c",
   "metadata": {},
   "outputs": [
    {
     "data": {
      "text/plain": [
       "(231, 108, 83, 29)"
      ]
     },
     "execution_count": 5,
     "metadata": {},
     "output_type": "execute_result"
    }
   ],
   "source": [
    "len(train_data[20]), len(train_data[21]), len(train_data[22]), len(train_data[23])"
   ]
  },
  {
   "cell_type": "code",
   "execution_count": 6,
   "id": "e7d7aee3",
   "metadata": {},
   "outputs": [
    {
     "data": {
      "text/plain": [
       "[1,\n",
       " 779,\n",
       " 37,\n",
       " 38,\n",
       " 465,\n",
       " 278,\n",
       " 6623,\n",
       " 55,\n",
       " 900,\n",
       " 6,\n",
       " 18215,\n",
       " 172,\n",
       " 4,\n",
       " 19941,\n",
       " 13885,\n",
       " 66,\n",
       " 474,\n",
       " 10,\n",
       " 920,\n",
       " 24,\n",
       " 41,\n",
       " 6432,\n",
       " 9691,\n",
       " 1333,\n",
       " 136,\n",
       " 4,\n",
       " 37,\n",
       " 38,\n",
       " 309,\n",
       " 2276,\n",
       " 198,\n",
       " 2020,\n",
       " 364,\n",
       " 2061,\n",
       " 6,\n",
       " 439,\n",
       " 2249,\n",
       " 1327,\n",
       " 5,\n",
       " 37,\n",
       " 38,\n",
       " 465,\n",
       " 247,\n",
       " 348,\n",
       " 4,\n",
       " 460,\n",
       " 356,\n",
       " 990,\n",
       " 1589,\n",
       " 8,\n",
       " 136,\n",
       " 1053,\n",
       " 3373,\n",
       " 634,\n",
       " 330,\n",
       " 116,\n",
       " 2061,\n",
       " 1185,\n",
       " 6,\n",
       " 15436,\n",
       " 198,\n",
       " 236,\n",
       " 1176,\n",
       " 6,\n",
       " 3037,\n",
       " 6448,\n",
       " 1693,\n",
       " 238,\n",
       " 1720,\n",
       " 990,\n",
       " 309,\n",
       " 415,\n",
       " 265,\n",
       " 5992,\n",
       " 8945,\n",
       " 1149,\n",
       " 9118,\n",
       " 23,\n",
       " 779,\n",
       " 10,\n",
       " 103,\n",
       " 5,\n",
       " 465,\n",
       " 278,\n",
       " 6623,\n",
       " 7,\n",
       " 42,\n",
       " 1267,\n",
       " 6,\n",
       " 6432,\n",
       " 4,\n",
       " 3373,\n",
       " 7,\n",
       " 269,\n",
       " 10,\n",
       " 583,\n",
       " 43,\n",
       " 6,\n",
       " 2070,\n",
       " 1762,\n",
       " 6,\n",
       " 30,\n",
       " 3069,\n",
       " 13,\n",
       " 4,\n",
       " 1185,\n",
       " 199,\n",
       " 8,\n",
       " 4,\n",
       " 6623,\n",
       " 348,\n",
       " 990,\n",
       " 313,\n",
       " 415,\n",
       " 265,\n",
       " 6016,\n",
       " 5731,\n",
       " 1149,\n",
       " 7108,\n",
       " 9816,\n",
       " 29875,\n",
       " 1149,\n",
       " 10600,\n",
       " 1460,\n",
       " 13446,\n",
       " 1149,\n",
       " 16207,\n",
       " 1251,\n",
       " 13128,\n",
       " 1149,\n",
       " 10600,\n",
       " 9,\n",
       " 15861,\n",
       " 10621,\n",
       " 1324,\n",
       " 6131,\n",
       " 75,\n",
       " 91,\n",
       " 10269,\n",
       " 172,\n",
       " 4,\n",
       " 66,\n",
       " 474,\n",
       " 10,\n",
       " 1220,\n",
       " 6,\n",
       " 6592,\n",
       " 1968,\n",
       " 398,\n",
       " 9,\n",
       " 2841,\n",
       " 22,\n",
       " 342,\n",
       " 203,\n",
       " 4,\n",
       " 1220,\n",
       " 6132,\n",
       " 27,\n",
       " 2953,\n",
       " 2412,\n",
       " 11428,\n",
       " 1324,\n",
       " 2775,\n",
       " 41,\n",
       " 6717,\n",
       " 4,\n",
       " 5513,\n",
       " 5,\n",
       " 182,\n",
       " 7,\n",
       " 4441,\n",
       " 552,\n",
       " 58,\n",
       " 45,\n",
       " 203,\n",
       " 62,\n",
       " 3045,\n",
       " 8091,\n",
       " 6,\n",
       " 37,\n",
       " 38,\n",
       " 398,\n",
       " 25977,\n",
       " 474,\n",
       " 7718,\n",
       " 22,\n",
       " 10,\n",
       " 105,\n",
       " 534,\n",
       " 27,\n",
       " 4,\n",
       " 141,\n",
       " 66,\n",
       " 259,\n",
       " 24,\n",
       " 203,\n",
       " 22,\n",
       " 392,\n",
       " 5,\n",
       " 2043,\n",
       " 13291,\n",
       " 51,\n",
       " 45,\n",
       " 1744,\n",
       " 8976,\n",
       " 9,\n",
       " 2478,\n",
       " 1968,\n",
       " 62,\n",
       " 10710,\n",
       " 37,\n",
       " 38,\n",
       " 398,\n",
       " 4,\n",
       " 8315,\n",
       " 8749,\n",
       " 57,\n",
       " 4095,\n",
       " 392,\n",
       " 40,\n",
       " 2169,\n",
       " 3769,\n",
       " 898,\n",
       " 5,\n",
       " 2043,\n",
       " 6022,\n",
       " 31,\n",
       " 1744,\n",
       " 1968,\n",
       " 17,\n",
       " 12]"
      ]
     },
     "execution_count": 6,
     "metadata": {},
     "output_type": "execute_result"
    }
   ],
   "source": [
    "train_data[20]"
   ]
  },
  {
   "cell_type": "markdown",
   "id": "d5608a76",
   "metadata": {},
   "source": [
    "### Obtain the word index in order to understand which number corresponds to which word. At the same time, check the index data type, lengths and items."
   ]
  },
  {
   "cell_type": "code",
   "execution_count": 7,
   "id": "7a63839e",
   "metadata": {},
   "outputs": [],
   "source": [
    "word_index = reuters.get_word_index()"
   ]
  },
  {
   "cell_type": "code",
   "execution_count": 8,
   "id": "c06061f8",
   "metadata": {},
   "outputs": [
    {
     "data": {
      "text/plain": [
       "(dict, 30979)"
      ]
     },
     "execution_count": 8,
     "metadata": {},
     "output_type": "execute_result"
    }
   ],
   "source": [
    "type(word_index), len(word_index)"
   ]
  },
  {
   "cell_type": "code",
   "execution_count": 9,
   "id": "45815d6c",
   "metadata": {},
   "outputs": [],
   "source": [
    "#word_index.items()"
   ]
  },
  {
   "cell_type": "markdown",
   "id": "48532932",
   "metadata": {},
   "source": [
    "### Shifted by 3 and the numbers from 0 to 3 have special meanings."
   ]
  },
  {
   "cell_type": "code",
   "execution_count": 10,
   "id": "091f52fa",
   "metadata": {},
   "outputs": [],
   "source": [
    "for k in word_index:\n",
    "    word_index[k] += 3\n",
    "word_index[\"<PAD>\"] = 0\n",
    "word_index[\"<START>\"] = 1\n",
    "word_index[\"<UNK>\"] = 2  # unknown\n",
    "word_index[\"<UNUSED>\"] = 3"
   ]
  },
  {
   "cell_type": "code",
   "execution_count": 11,
   "id": "d4b31340",
   "metadata": {},
   "outputs": [
    {
     "data": {
      "text/plain": [
       "(548, 1859)"
      ]
     },
     "execution_count": 11,
     "metadata": {},
     "output_type": "execute_result"
    }
   ],
   "source": [
    "word_index[\"good\"], word_index[\"bad\"]"
   ]
  },
  {
   "cell_type": "markdown",
   "id": "78ebec54",
   "metadata": {},
   "source": [
    "### Build a reversed dictionary, which takes the numbers as keys and returns the words as values."
   ]
  },
  {
   "cell_type": "code",
   "execution_count": 12,
   "id": "28c8f5cd",
   "metadata": {},
   "outputs": [],
   "source": [
    "reverse_word_index = {}\n",
    "for k in word_index:\n",
    "    reverse_word_index[word_index[k]] = k"
   ]
  },
  {
   "cell_type": "code",
   "execution_count": 13,
   "id": "4a58fecc",
   "metadata": {},
   "outputs": [],
   "source": [
    "reverse_word_index = {word_index[k]:k for k in word_index}"
   ]
  },
  {
   "cell_type": "code",
   "execution_count": 14,
   "id": "2f70ed45",
   "metadata": {},
   "outputs": [
    {
     "data": {
      "text/plain": [
       "('this', 'preferred')"
      ]
     },
     "execution_count": 14,
     "metadata": {},
     "output_type": "execute_result"
    }
   ],
   "source": [
    "reverse_word_index[52], reverse_word_index[617]"
   ]
  },
  {
   "cell_type": "markdown",
   "id": "ace464f9",
   "metadata": {},
   "source": [
    "### Convert all numbers in a given review back into the original text."
   ]
  },
  {
   "cell_type": "code",
   "execution_count": 15,
   "id": "5f6d8061",
   "metadata": {},
   "outputs": [
    {
     "name": "stdout",
     "output_type": "stream",
     "text": [
      "1 <START>\n",
      "779 leading\n",
      "37 u\n",
      "38 s\n",
      "465 farm\n",
      "278 state\n",
      "6623 senators\n",
      "55 are\n",
      "900 seeking\n",
      "6 to\n",
      "18215 insert\n",
      "172 into\n",
      "4 the\n",
      "19941 senate's\n",
      "13885 omnibus\n",
      "66 trade\n",
      "474 bill\n",
      "10 a\n",
      "920 provision\n",
      "24 that\n",
      "41 would\n",
      "6432 broaden\n",
      "9691 eligibility\n",
      "1333 requirements\n",
      "136 under\n",
      "4 the\n",
      "37 u\n",
      "38 s\n",
      "309 agriculture\n",
      "2276 department's\n",
      "198 export\n",
      "2020 enhancement\n",
      "364 program\n",
      "2061 eep\n",
      "6 to\n",
      "439 include\n",
      "2249 traditional\n",
      "1327 buyers\n",
      "5 of\n",
      "37 u\n",
      "38 s\n",
      "465 farm\n",
      "247 products\n",
      "348 including\n",
      "4 the\n",
      "460 soviet\n",
      "356 union\n",
      "990 senate\n",
      "1589 staff\n",
      "8 said\n",
      "136 under\n",
      "1053 existing\n",
      "3373 criteria\n",
      "634 usda\n",
      "330 can\n",
      "116 offer\n",
      "2061 eep\n",
      "1185 subsidies\n",
      "6 to\n",
      "15436 recoup\n",
      "198 export\n",
      "236 markets\n",
      "1176 lost\n",
      "6 to\n",
      "3037 competing\n",
      "6448 nations'\n",
      "1693 unfair\n",
      "238 trading\n",
      "1720 practices\n",
      "990 senate\n",
      "309 agriculture\n",
      "415 committee\n",
      "265 chairman\n",
      "5992 patrick\n",
      "8945 leahy\n",
      "1149 d\n",
      "9118 vt\n",
      "23 is\n",
      "779 leading\n",
      "10 a\n",
      "103 group\n",
      "5 of\n",
      "465 farm\n",
      "278 state\n",
      "6623 senators\n",
      "7 in\n",
      "42 an\n",
      "1267 effort\n",
      "6 to\n",
      "6432 broaden\n",
      "4 the\n",
      "3373 criteria\n",
      "7 in\n",
      "269 such\n",
      "10 a\n",
      "583 way\n",
      "43 as\n",
      "6 to\n",
      "2070 enable\n",
      "1762 moscow\n",
      "6 to\n",
      "30 be\n",
      "3069 eligible\n",
      "13 for\n",
      "4 the\n",
      "1185 subsidies\n",
      "199 sources\n",
      "8 said\n",
      "4 the\n",
      "6623 senators\n",
      "348 including\n",
      "990 senate\n",
      "313 finance\n",
      "415 committee\n",
      "265 chairman\n",
      "6016 lloyd\n",
      "5731 bentsen\n",
      "1149 d\n",
      "7108 tex\n",
      "9816 max\n",
      "29875 baucus\n",
      "1149 d\n",
      "10600 mont\n",
      "1460 david\n",
      "13446 pryor\n",
      "1149 d\n",
      "16207 ark\n",
      "1251 john\n",
      "13128 melcher\n",
      "1149 d\n",
      "10600 mont\n",
      "9 and\n",
      "15861 thad\n",
      "10621 cochran\n",
      "1324 r\n",
      "6131 miss\n",
      "75 also\n",
      "91 may\n",
      "10269 fold\n",
      "172 into\n",
      "4 the\n",
      "66 trade\n",
      "474 bill\n",
      "10 a\n",
      "1220 measure\n",
      "6 to\n",
      "6592 shield\n",
      "1968 pork\n",
      "398 producers\n",
      "9 and\n",
      "2841 processors\n",
      "22 from\n",
      "342 canadian\n",
      "203 imports\n",
      "4 the\n",
      "1220 measure\n",
      "6132 sponsored\n",
      "27 by\n",
      "2953 sen\n",
      "2412 charles\n",
      "11428 grassley\n",
      "1324 r\n",
      "2775 iowa\n",
      "41 would\n",
      "6717 clarify\n",
      "4 the\n",
      "5513 definition\n",
      "5 of\n",
      "182 industry\n",
      "7 in\n",
      "4441 determining\n",
      "552 whether\n",
      "58 or\n",
      "45 not\n",
      "203 imports\n",
      "62 were\n",
      "3045 causing\n",
      "8091 injury\n",
      "6 to\n",
      "37 u\n",
      "38 s\n",
      "398 producers\n",
      "25977 grassley's\n",
      "474 bill\n",
      "7718 stems\n",
      "22 from\n",
      "10 a\n",
      "105 1985\n",
      "534 decision\n",
      "27 by\n",
      "4 the\n",
      "141 international\n",
      "66 trade\n",
      "259 commission\n",
      "24 that\n",
      "203 imports\n",
      "22 from\n",
      "392 canada\n",
      "5 of\n",
      "2043 live\n",
      "13291 swine\n",
      "51 but\n",
      "45 not\n",
      "1744 fresh\n",
      "8976 chilled\n",
      "9 and\n",
      "2478 frozen\n",
      "1968 pork\n",
      "62 were\n",
      "10710 harming\n",
      "37 u\n",
      "38 s\n",
      "398 producers\n",
      "4 the\n",
      "8315 bill's\n",
      "8749 proponents\n",
      "57 have\n",
      "4095 argued\n",
      "392 canada\n",
      "40 has\n",
      "2169 simply\n",
      "3769 replaced\n",
      "898 shipments\n",
      "5 of\n",
      "2043 live\n",
      "6022 hogs\n",
      "31 with\n",
      "1744 fresh\n",
      "1968 pork\n",
      "17 reuter\n",
      "12 3\n"
     ]
    }
   ],
   "source": [
    "for i in train_data[20]:\n",
    "    print(i,reverse_word_index.get(i,\"?\"))"
   ]
  },
  {
   "cell_type": "markdown",
   "id": "9a6cf5f4",
   "metadata": {},
   "source": [
    "### Use get(i,\"?\") instead of [i], to safeguard against the case, where a number is for some reason not in the dictionary."
   ]
  },
  {
   "cell_type": "code",
   "execution_count": 16,
   "id": "eb71fdbd",
   "metadata": {},
   "outputs": [],
   "source": [
    "def decode_review(encoded_review):\n",
    "    review = \"\"\n",
    "    for k in encoded_review:\n",
    "        review += \" \"\n",
    "        review += reverse_word_index.get(k, '?')\n",
    "    return review\n"
   ]
  },
  {
   "cell_type": "markdown",
   "id": "217e7e1e",
   "metadata": {},
   "source": [
    "### Check out a number of reviews and the corresponding recommendations:"
   ]
  },
  {
   "cell_type": "code",
   "execution_count": 17,
   "id": "cb78b64c",
   "metadata": {},
   "outputs": [
    {
     "data": {
      "text/plain": [
       "(\" <START> leading u s farm state senators are seeking to insert into the senate's omnibus trade bill a provision that would broaden eligibility requirements under the u s agriculture department's export enhancement program eep to include traditional buyers of u s farm products including the soviet union senate staff said under existing criteria usda can offer eep subsidies to recoup export markets lost to competing nations' unfair trading practices senate agriculture committee chairman patrick leahy d vt is leading a group of farm state senators in an effort to broaden the criteria in such a way as to enable moscow to be eligible for the subsidies sources said the senators including senate finance committee chairman lloyd bentsen d tex max baucus d mont david pryor d ark john melcher d mont and thad cochran r miss also may fold into the trade bill a measure to shield pork producers and processors from canadian imports the measure sponsored by sen charles grassley r iowa would clarify the definition of industry in determining whether or not imports were causing injury to u s producers grassley's bill stems from a 1985 decision by the international trade commission that imports from canada of live swine but not fresh chilled and frozen pork were harming u s producers the bill's proponents have argued canada has simply replaced shipments of live hogs with fresh pork reuter 3\",\n",
       " 11)"
      ]
     },
     "execution_count": 17,
     "metadata": {},
     "output_type": "execute_result"
    }
   ],
   "source": [
    "decode_review(train_data[20]), train_labels[20]"
   ]
  },
  {
   "cell_type": "code",
   "execution_count": 18,
   "id": "014b1e62",
   "metadata": {},
   "outputs": [
    {
     "data": {
      "text/plain": [
       "'sandoz'"
      ]
     },
     "execution_count": 18,
     "metadata": {},
     "output_type": "execute_result"
    }
   ],
   "source": [
    "reverse_word_index[8000]"
   ]
  },
  {
   "cell_type": "markdown",
   "id": "587a1c4b",
   "metadata": {},
   "source": [
    "### Begin to preprocess the data so that it could have a better performance in the network, we need to reduce the number of words in the data."
   ]
  },
  {
   "cell_type": "code",
   "execution_count": 19,
   "id": "a6d4d635",
   "metadata": {},
   "outputs": [],
   "source": [
    "reuters = keras.datasets.reuters\n",
    "vocab_size = 5000\n",
    "(train_data, train_labels), (test_data, test_labels) = reuters.load_data(num_words = vocab_size)"
   ]
  },
  {
   "cell_type": "code",
   "execution_count": 20,
   "id": "9fe82197",
   "metadata": {},
   "outputs": [
    {
     "data": {
      "text/plain": [
       "5000"
      ]
     },
     "execution_count": 20,
     "metadata": {},
     "output_type": "execute_result"
    }
   ],
   "source": [
    "vocab_size"
   ]
  },
  {
   "cell_type": "code",
   "execution_count": 21,
   "id": "5ccd02a3",
   "metadata": {},
   "outputs": [
    {
     "data": {
      "text/plain": [
       "(numpy.ndarray, (8982,))"
      ]
     },
     "execution_count": 21,
     "metadata": {},
     "output_type": "execute_result"
    }
   ],
   "source": [
    "type(train_data),train_data.shape"
   ]
  },
  {
   "cell_type": "markdown",
   "id": "19bfc1d7",
   "metadata": {},
   "source": [
    "### It is because the length of the individual reviews is not the same for all review, we need to normalize the input by cutting long reviews and expand short reviews by padding it"
   ]
  },
  {
   "cell_type": "code",
   "execution_count": 22,
   "id": "6a4c5a3d",
   "metadata": {},
   "outputs": [],
   "source": [
    "train_data = keras.preprocessing.sequence.pad_sequences(train_data, value=word_index[\"<PAD>\"], padding='post', maxlen=256)\n",
    "\n",
    "test_data = keras.preprocessing.sequence.pad_sequences(test_data, value=word_index[\"<PAD>\"], padding='post', maxlen=256)"
   ]
  },
  {
   "cell_type": "code",
   "execution_count": 23,
   "id": "22f56a57",
   "metadata": {},
   "outputs": [
    {
     "data": {
      "text/plain": [
       "(numpy.ndarray, (8982, 256))"
      ]
     },
     "execution_count": 23,
     "metadata": {},
     "output_type": "execute_result"
    }
   ],
   "source": [
    "type(train_data), train_data.shape"
   ]
  },
  {
   "cell_type": "code",
   "execution_count": 24,
   "id": "6ccb1430",
   "metadata": {},
   "outputs": [
    {
     "data": {
      "text/plain": [
       "(\" <START> leading u s farm state <UNK> are seeking to <UNK> into the <UNK> <UNK> trade bill a provision that would <UNK> <UNK> requirements under the u s agriculture department's export enhancement program eep to include traditional buyers of u s farm products including the soviet union senate staff said under existing criteria usda can offer eep subsidies to <UNK> export markets lost to competing <UNK> unfair trading practices senate agriculture committee chairman <UNK> <UNK> d <UNK> is leading a group of farm state <UNK> in an effort to <UNK> the criteria in such a way as to enable moscow to be eligible for the subsidies sources said the <UNK> including senate finance committee chairman <UNK> <UNK> d <UNK> <UNK> <UNK> d <UNK> david <UNK> d <UNK> john <UNK> d <UNK> and <UNK> <UNK> r <UNK> also may <UNK> into the trade bill a measure to <UNK> pork producers and processors from canadian imports the measure <UNK> by sen charles <UNK> r iowa would <UNK> the <UNK> of industry in determining whether or not imports were causing <UNK> to u s producers <UNK> bill <UNK> from a 1985 decision by the international trade commission that imports from canada of live <UNK> but not fresh <UNK> and frozen pork were <UNK> u s producers the <UNK> <UNK> have argued canada has simply replaced shipments of live <UNK> with fresh pork reuter 3 <PAD> <PAD> <PAD> <PAD> <PAD> <PAD> <PAD> <PAD> <PAD> <PAD> <PAD> <PAD> <PAD> <PAD> <PAD> <PAD> <PAD> <PAD> <PAD> <PAD> <PAD> <PAD> <PAD> <PAD> <PAD>\",\n",
       " 256)"
      ]
     },
     "execution_count": 24,
     "metadata": {},
     "output_type": "execute_result"
    }
   ],
   "source": [
    "decode_review(train_data[20]), len(train_data[20])"
   ]
  },
  {
   "cell_type": "code",
   "execution_count": 25,
   "id": "927ff29a",
   "metadata": {},
   "outputs": [
    {
     "name": "stdout",
     "output_type": "stream",
     "text": [
      "[   1  779   37   38  465  278    2   55  900    6    2  172    4    2\n",
      "    2   66  474   10  920   24   41    2    2 1333  136    4   37   38\n",
      "  309 2276  198 2020  364 2061    6  439 2249 1327    5   37   38  465\n",
      "  247  348    4  460  356  990 1589    8  136 1053 3373  634  330  116\n",
      " 2061 1185    6    2  198  236 1176    6 3037    2 1693  238 1720  990\n",
      "  309  415  265    2    2 1149    2   23  779   10  103    5  465  278\n",
      "    2    7   42 1267    6    2    4 3373    7  269   10  583   43    6\n",
      " 2070 1762    6   30 3069   13    4 1185  199    8    4    2  348  990\n",
      "  313  415  265    2    2 1149    2    2    2 1149    2 1460    2 1149\n",
      "    2 1251    2 1149    2    9    2    2 1324    2   75   91    2  172\n",
      "    4   66  474   10 1220    6    2 1968  398    9 2841   22  342  203\n",
      "    4 1220    2   27 2953 2412    2 1324 2775   41    2    4    2    5\n",
      "  182    7 4441  552   58   45  203   62 3045    2    6   37   38  398\n",
      "    2  474    2   22   10  105  534   27    4  141   66  259   24  203\n",
      "   22  392    5 2043    2   51   45 1744    2    9 2478 1968   62    2\n",
      "   37   38  398    4    2    2   57 4095  392   40 2169 3769  898    5\n",
      " 2043    2   31 1744 1968   17   12    0    0    0    0    0    0    0\n",
      "    0    0    0    0    0    0    0    0    0    0    0    0    0    0\n",
      "    0    0    0    0]\n"
     ]
    }
   ],
   "source": [
    "print(train_data[20])"
   ]
  },
  {
   "cell_type": "code",
   "execution_count": null,
   "id": "0bc8cb00",
   "metadata": {},
   "outputs": [],
   "source": []
  },
  {
   "cell_type": "markdown",
   "id": "eb8d6f15",
   "metadata": {},
   "source": [
    "### After preprocess data, we could build a model in tensorflow. It is necessary to select the appropriate node, activation function, and hidden layer To build a model to analyze the data. Without good accuracy, we cannot draw some convincing conclusions."
   ]
  },
  {
   "cell_type": "code",
   "execution_count": 26,
   "id": "b05e94fb",
   "metadata": {},
   "outputs": [
    {
     "name": "stdout",
     "output_type": "stream",
     "text": [
      "Model: \"sequential\"\n",
      "_________________________________________________________________\n",
      " Layer (type)                Output Shape              Param #   \n",
      "=================================================================\n",
      " embedding (Embedding)       (None, None, 64)          320000    \n",
      "                                                                 \n",
      " global_average_pooling1d (G  (None, 64)               0         \n",
      " lobalAveragePooling1D)                                          \n",
      "                                                                 \n",
      " dense (Dense)               (None, 16)                1040      \n",
      "                                                                 \n",
      " dense_1 (Dense)             (None, 16)                272       \n",
      "                                                                 \n",
      " dropout (Dropout)           (None, 16)                0         \n",
      "                                                                 \n",
      " dense_2 (Dense)             (None, 46)                782       \n",
      "                                                                 \n",
      "=================================================================\n",
      "Total params: 322,094\n",
      "Trainable params: 322,094\n",
      "Non-trainable params: 0\n",
      "_________________________________________________________________\n"
     ]
    }
   ],
   "source": [
    "vocab_size = 5000\n",
    "model = keras.Sequential()\n",
    "model.add(keras.layers.Embedding(vocab_size, 64))\n",
    "model.add(keras.layers.GlobalAveragePooling1D())\n",
    "model.add(keras.layers.Dense(16, activation=tf.nn.relu))\n",
    "model.add(keras.layers.Dense(16, activation=tf.nn.relu))\n",
    "model.add(keras.layers.Dropout(0.2))\n",
    "model.add(keras.layers.Dense(46, activation=tf.nn.softmax))\n",
    "model.summary()"
   ]
  },
  {
   "cell_type": "markdown",
   "id": "af6e0754",
   "metadata": {},
   "source": [
    "### My optimizer is adam and loss function is sparse_categorical_crossentropy,the target is required to be non-onehot encoding, and onehot encoding is implemented inside this function."
   ]
  },
  {
   "cell_type": "code",
   "execution_count": 27,
   "id": "c11443b2",
   "metadata": {},
   "outputs": [],
   "source": [
    "model.compile(optimizer='adam',\n",
    "              loss='sparse_categorical_crossentropy',\n",
    "              metrics=['acc'])"
   ]
  },
  {
   "cell_type": "code",
   "execution_count": 28,
   "id": "92b9ce64",
   "metadata": {},
   "outputs": [],
   "source": [
    "train_N=1000\n",
    "x_val = train_data[:train_N]\n",
    "partial_x_train = train_data[train_N:]\n",
    "\n",
    "y_val = train_labels[:train_N]\n",
    "partial_y_train = train_labels[train_N:]\n"
   ]
  },
  {
   "cell_type": "markdown",
   "id": "333217b0",
   "metadata": {},
   "source": [
    "### The data will be passed 40 times in the network during the training process, the number of samples per gradient update equal to 40, use validation_split=.1 instead of validation_data, which mean taking apart from the training set at a ratio of 0.1 as the validation set, then running the model."
   ]
  },
  {
   "cell_type": "code",
   "execution_count": 29,
   "id": "9e32cd5e",
   "metadata": {},
   "outputs": [
    {
     "name": "stdout",
     "output_type": "stream",
     "text": [
      "Epoch 1/40\n",
      "16/16 [==============================] - 10s 155ms/step - loss: 3.7936 - acc: 0.1984 - val_loss: 3.7433 - val_acc: 0.2214\n",
      "Epoch 2/40\n",
      "16/16 [==============================] - 2s 114ms/step - loss: 3.6692 - acc: 0.2154 - val_loss: 3.5633 - val_acc: 0.2214\n",
      "Epoch 3/40\n",
      "16/16 [==============================] - 2s 116ms/step - loss: 3.4076 - acc: 0.2273 - val_loss: 3.1997 - val_acc: 0.2214\n",
      "Epoch 4/40\n",
      "16/16 [==============================] - 2s 115ms/step - loss: 2.9573 - acc: 0.2406 - val_loss: 2.6768 - val_acc: 0.2214\n",
      "Epoch 5/40\n",
      "16/16 [==============================] - 2s 117ms/step - loss: 2.5440 - acc: 0.2545 - val_loss: 2.4436 - val_acc: 0.2214\n",
      "Epoch 6/40\n",
      "16/16 [==============================] - 2s 129ms/step - loss: 2.4016 - acc: 0.3296 - val_loss: 2.3760 - val_acc: 0.3315\n",
      "Epoch 7/40\n",
      "16/16 [==============================] - 2s 128ms/step - loss: 2.3443 - acc: 0.3521 - val_loss: 2.3384 - val_acc: 0.3315\n",
      "Epoch 8/40\n",
      "16/16 [==============================] - 2s 120ms/step - loss: 2.3156 - acc: 0.3509 - val_loss: 2.3095 - val_acc: 0.3315\n",
      "Epoch 9/40\n",
      "16/16 [==============================] - 2s 120ms/step - loss: 2.2838 - acc: 0.3517 - val_loss: 2.2828 - val_acc: 0.3315\n",
      "Epoch 10/40\n",
      "16/16 [==============================] - 2s 120ms/step - loss: 2.2496 - acc: 0.3587 - val_loss: 2.2535 - val_acc: 0.3382\n",
      "Epoch 11/40\n",
      "16/16 [==============================] - 2s 125ms/step - loss: 2.2197 - acc: 0.3646 - val_loss: 2.2219 - val_acc: 0.3482\n",
      "Epoch 12/40\n",
      "16/16 [==============================] - 2s 122ms/step - loss: 2.1909 - acc: 0.3746 - val_loss: 2.1850 - val_acc: 0.3693\n",
      "Epoch 13/40\n",
      "16/16 [==============================] - 2s 113ms/step - loss: 2.1476 - acc: 0.3862 - val_loss: 2.1443 - val_acc: 0.3726\n",
      "Epoch 14/40\n",
      "16/16 [==============================] - 2s 123ms/step - loss: 2.1062 - acc: 0.3968 - val_loss: 2.0979 - val_acc: 0.3815\n",
      "Epoch 15/40\n",
      "16/16 [==============================] - 2s 124ms/step - loss: 2.0514 - acc: 0.4163 - val_loss: 2.0477 - val_acc: 0.3904\n",
      "Epoch 16/40\n",
      "16/16 [==============================] - 2s 123ms/step - loss: 2.0089 - acc: 0.4312 - val_loss: 1.9968 - val_acc: 0.4127\n",
      "Epoch 17/40\n",
      "16/16 [==============================] - 2s 120ms/step - loss: 1.9568 - acc: 0.4528 - val_loss: 1.9493 - val_acc: 0.4516\n",
      "Epoch 18/40\n",
      "16/16 [==============================] - 2s 123ms/step - loss: 1.9061 - acc: 0.4780 - val_loss: 1.9058 - val_acc: 0.4805\n",
      "Epoch 19/40\n",
      "16/16 [==============================] - 2s 126ms/step - loss: 1.8660 - acc: 0.4935 - val_loss: 1.8660 - val_acc: 0.5150\n",
      "Epoch 20/40\n",
      "16/16 [==============================] - 2s 124ms/step - loss: 1.8183 - acc: 0.5093 - val_loss: 1.8313 - val_acc: 0.5339\n",
      "Epoch 21/40\n",
      "16/16 [==============================] - 2s 112ms/step - loss: 1.7957 - acc: 0.5237 - val_loss: 1.8040 - val_acc: 0.5417\n",
      "Epoch 22/40\n",
      "16/16 [==============================] - 2s 123ms/step - loss: 1.7560 - acc: 0.5379 - val_loss: 1.7753 - val_acc: 0.5451\n",
      "Epoch 23/40\n",
      "16/16 [==============================] - 2s 124ms/step - loss: 1.7247 - acc: 0.5473 - val_loss: 1.7503 - val_acc: 0.5528\n",
      "Epoch 24/40\n",
      "16/16 [==============================] - 2s 120ms/step - loss: 1.6934 - acc: 0.5598 - val_loss: 1.7298 - val_acc: 0.5562\n",
      "Epoch 25/40\n",
      "16/16 [==============================] - 2s 120ms/step - loss: 1.6774 - acc: 0.5577 - val_loss: 1.7096 - val_acc: 0.5617\n",
      "Epoch 26/40\n",
      "16/16 [==============================] - 2s 117ms/step - loss: 1.6586 - acc: 0.5656 - val_loss: 1.6926 - val_acc: 0.5640\n",
      "Epoch 27/40\n",
      "16/16 [==============================] - 2s 127ms/step - loss: 1.6311 - acc: 0.5745 - val_loss: 1.6759 - val_acc: 0.5662\n",
      "Epoch 28/40\n",
      "16/16 [==============================] - 2s 123ms/step - loss: 1.6096 - acc: 0.5780 - val_loss: 1.6623 - val_acc: 0.5762\n",
      "Epoch 29/40\n",
      "16/16 [==============================] - 2s 113ms/step - loss: 1.5949 - acc: 0.5838 - val_loss: 1.6502 - val_acc: 0.5795\n",
      "Epoch 30/40\n",
      "16/16 [==============================] - 2s 123ms/step - loss: 1.5619 - acc: 0.5926 - val_loss: 1.6389 - val_acc: 0.5884\n",
      "Epoch 31/40\n",
      "16/16 [==============================] - 2s 125ms/step - loss: 1.5524 - acc: 0.5943 - val_loss: 1.6286 - val_acc: 0.5873\n",
      "Epoch 32/40\n",
      "16/16 [==============================] - 2s 125ms/step - loss: 1.5354 - acc: 0.5973 - val_loss: 1.6188 - val_acc: 0.5873\n",
      "Epoch 33/40\n",
      "16/16 [==============================] - 2s 122ms/step - loss: 1.5234 - acc: 0.6015 - val_loss: 1.6085 - val_acc: 0.5918\n",
      "Epoch 34/40\n",
      "16/16 [==============================] - 2s 118ms/step - loss: 1.4997 - acc: 0.6061 - val_loss: 1.6000 - val_acc: 0.5918\n",
      "Epoch 35/40\n",
      "16/16 [==============================] - 2s 130ms/step - loss: 1.4828 - acc: 0.6107 - val_loss: 1.5937 - val_acc: 0.5951\n",
      "Epoch 36/40\n",
      "16/16 [==============================] - 2s 126ms/step - loss: 1.4729 - acc: 0.6135 - val_loss: 1.5851 - val_acc: 0.6007\n",
      "Epoch 37/40\n",
      "16/16 [==============================] - 2s 118ms/step - loss: 1.4540 - acc: 0.6146 - val_loss: 1.5769 - val_acc: 0.6096\n",
      "Epoch 38/40\n",
      "16/16 [==============================] - 2s 119ms/step - loss: 1.4444 - acc: 0.6171 - val_loss: 1.5721 - val_acc: 0.6129\n",
      "Epoch 39/40\n",
      "16/16 [==============================] - 2s 125ms/step - loss: 1.4190 - acc: 0.6254 - val_loss: 1.5695 - val_acc: 0.6107\n",
      "Epoch 40/40\n",
      "16/16 [==============================] - 2s 122ms/step - loss: 1.4142 - acc: 0.6239 - val_loss: 1.5652 - val_acc: 0.6085\n"
     ]
    }
   ],
   "source": [
    "# history = model.fit(partial_x_train, partial_y_train, epochs=40, \n",
    "# batch_size=512, validation_data=(x_val, y_val), verbose=1)\n",
    "history = model.fit(train_data, train_labels, epochs=40, \n",
    "                    batch_size=512, validation_split=.1, verbose=1)"
   ]
  },
  {
   "cell_type": "markdown",
   "id": "0e04eea9",
   "metadata": {},
   "source": [
    "### Check the accuracy of the model, here we can see the accuracy"
   ]
  },
  {
   "cell_type": "code",
   "execution_count": 30,
   "id": "fd26ab05",
   "metadata": {},
   "outputs": [
    {
     "name": "stdout",
     "output_type": "stream",
     "text": [
      "71/71 [==============================] - 1s 6ms/step - loss: 1.5335 - acc: 0.6118\n"
     ]
    },
    {
     "data": {
      "text/plain": [
       "[1.5334978103637695, 0.6117542386054993]"
      ]
     },
     "execution_count": 30,
     "metadata": {},
     "output_type": "execute_result"
    }
   ],
   "source": [
    "model.evaluate(test_data, test_labels)"
   ]
  },
  {
   "cell_type": "markdown",
   "id": "e6741f45",
   "metadata": {},
   "source": [
    "Use history to view the parameters and types of the model."
   ]
  },
  {
   "cell_type": "code",
   "execution_count": 31,
   "id": "a5bdd1e5",
   "metadata": {},
   "outputs": [
    {
     "data": {
      "text/plain": [
       "{'verbose': 1, 'epochs': 40, 'steps': 16}"
      ]
     },
     "execution_count": 31,
     "metadata": {},
     "output_type": "execute_result"
    }
   ],
   "source": [
    "history.params"
   ]
  },
  {
   "cell_type": "code",
   "execution_count": 32,
   "id": "b7e0e6dc",
   "metadata": {},
   "outputs": [
    {
     "data": {
      "text/plain": [
       "dict_keys(['loss', 'acc', 'val_loss', 'val_acc'])"
      ]
     },
     "execution_count": 32,
     "metadata": {},
     "output_type": "execute_result"
    }
   ],
   "source": [
    "history_dict = history.history\n",
    "history_dict.keys()"
   ]
  },
  {
   "cell_type": "code",
   "execution_count": 33,
   "id": "441abd3b",
   "metadata": {},
   "outputs": [
    {
     "data": {
      "text/plain": [
       "(list, 40)"
      ]
     },
     "execution_count": 33,
     "metadata": {},
     "output_type": "execute_result"
    }
   ],
   "source": [
    "type(history_dict[\"acc\"]), len(history_dict[\"acc\"])"
   ]
  },
  {
   "cell_type": "markdown",
   "id": "e57d296d",
   "metadata": {},
   "source": [
    "### Consider the training loss and the validation loss, after about 5 training epochs, both losses have significantly improved. After about 25 training epochs, validation loss higher than training loss, there was some overfitting during training, I used a dropout layer in the network for regularization, but there was still a little overfitting."
   ]
  },
  {
   "cell_type": "code",
   "execution_count": 34,
   "id": "b5b27329",
   "metadata": {},
   "outputs": [
    {
     "data": {
      "text/plain": [
       "<matplotlib.legend.Legend at 0x20932a0c2b0>"
      ]
     },
     "execution_count": 34,
     "metadata": {},
     "output_type": "execute_result"
    },
    {
     "data": {
      "image/png": "[encoded data removed]",
      "text/plain": [
       "<Figure size 432x288 with 1 Axes>"
      ]
     },
     "metadata": {
      "needs_background": "light"
     },
     "output_type": "display_data"
    }
   ],
   "source": [
    "acc = history_dict['acc']\n",
    "val_acc = history_dict['val_acc']\n",
    "loss = history_dict['loss']\n",
    "val_loss = history_dict['val_loss']\n",
    "epochs = history.epoch\n",
    "\n",
    "# \"bo\" is for \"blue dot\"\n",
    "plt.plot(epochs, loss, 'bo', label='Training loss')\n",
    "# b is for \"solid blue line\"\n",
    "plt.plot(epochs, val_loss, 'b', label='Validation loss')\n",
    "plt.title('Training and validation loss')\n",
    "plt.xlabel('Epochs')\n",
    "plt.ylabel('Loss')\n",
    "plt.legend()"
   ]
  },
  {
   "cell_type": "markdown",
   "id": "c99ae8a6",
   "metadata": {},
   "source": [
    "### At the same time, in the plot of training and validation accuracy, we could see that after the 5 training epochs, the accuracy rate is gradually increasing."
   ]
  },
  {
   "cell_type": "code",
   "execution_count": 35,
   "id": "698fe7c1",
   "metadata": {},
   "outputs": [
    {
     "data": {
      "text/plain": [
       "<matplotlib.legend.Legend at 0x209321c2f10>"
      ]
     },
     "execution_count": 35,
     "metadata": {},
     "output_type": "execute_result"
    },
    {
     "data": {
      "image/png": "[encoded data removed]",
      "text/plain": [
       "<Figure size 432x288 with 1 Axes>"
      ]
     },
     "metadata": {
      "needs_background": "light"
     },
     "output_type": "display_data"
    }
   ],
   "source": [
    "plt.plot(epochs, acc, 'bo', label='Training acc')\n",
    "plt.plot(epochs, val_acc, 'b', label='Validation acc')\n",
    "plt.title('Training and validation accuracy')\n",
    "plt.xlabel('Epochs')\n",
    "plt.ylabel('Accuracy')\n",
    "plt.legend()"
   ]
  },
  {
   "cell_type": "markdown",
   "id": "6d90e668",
   "metadata": {},
   "source": [
    "### Calculate the direct output of the trained network for each data set in the test data and check the type of test labels:"
   ]
  },
  {
   "cell_type": "code",
   "execution_count": 36,
   "id": "adf51eb6",
   "metadata": {},
   "outputs": [
    {
     "name": "stdout",
     "output_type": "stream",
     "text": [
      "71/71 [==============================] - 0s 6ms/step - loss: 1.5335 - acc: 0.6118\n"
     ]
    },
    {
     "data": {
      "text/plain": [
       "[1.5334978103637695, 0.6117542386054993]"
      ]
     },
     "execution_count": 36,
     "metadata": {},
     "output_type": "execute_result"
    }
   ],
   "source": [
    "model.evaluate(test_data, test_labels)"
   ]
  },
  {
   "cell_type": "code",
   "execution_count": 37,
   "id": "244e1491",
   "metadata": {},
   "outputs": [
    {
     "name": "stdout",
     "output_type": "stream",
     "text": [
      "71/71 [==============================] - 1s 6ms/step\n"
     ]
    },
    {
     "data": {
      "text/plain": [
       "(numpy.ndarray, (2246, 46))"
      ]
     },
     "execution_count": 37,
     "metadata": {},
     "output_type": "execute_result"
    }
   ],
   "source": [
    "predict = model.predict(test_data)\n",
    "type(predict), predict.shape"
   ]
  },
  {
   "cell_type": "code",
   "execution_count": 38,
   "id": "d55af8c0",
   "metadata": {},
   "outputs": [
    {
     "data": {
      "text/plain": [
       "(numpy.ndarray, (2246,))"
      ]
     },
     "execution_count": 38,
     "metadata": {},
     "output_type": "execute_result"
    }
   ],
   "source": [
    "type(test_labels), test_labels.shape"
   ]
  },
  {
   "cell_type": "markdown",
   "id": "96761ea7",
   "metadata": {},
   "source": [
    "### Calculate the error vector, by taking the difference between prediction and expected outcome and we can know which data set is correspond to error."
   ]
  },
  {
   "cell_type": "code",
   "execution_count": 39,
   "id": "41793039",
   "metadata": {},
   "outputs": [],
   "source": [
    "errors=[]\n",
    "for i in range (45):\n",
    "    errors = abs(predict[i]-test_labels[i])"
   ]
  },
  {
   "cell_type": "code",
   "execution_count": 40,
   "id": "ef19d2dd",
   "metadata": {},
   "outputs": [
    {
     "data": {
      "text/plain": [
       "(46,)"
      ]
     },
     "execution_count": 40,
     "metadata": {},
     "output_type": "execute_result"
    }
   ],
   "source": [
    "errors.shape"
   ]
  },
  {
   "cell_type": "code",
   "execution_count": 41,
   "id": "eaf0e627",
   "metadata": {},
   "outputs": [
    {
     "data": {
      "text/plain": [
       "3.999998"
      ]
     },
     "execution_count": 41,
     "metadata": {},
     "output_type": "execute_result"
    }
   ],
   "source": [
    "max(errors)"
   ]
  },
  {
   "cell_type": "code",
   "execution_count": 42,
   "id": "700f0654",
   "metadata": {},
   "outputs": [
    {
     "data": {
      "text/plain": [
       "22"
      ]
     },
     "execution_count": 42,
     "metadata": {},
     "output_type": "execute_result"
    }
   ],
   "source": [
    "np.argmax(errors)"
   ]
  },
  {
   "cell_type": "markdown",
   "id": "2af08f43",
   "metadata": {},
   "source": [
    "### the corresponding report is given by:"
   ]
  },
  {
   "cell_type": "code",
   "execution_count": 43,
   "id": "038f2b4f",
   "metadata": {},
   "outputs": [
    {
     "data": {
      "text/plain": [
       "(' <START> qtly div 57 1 2 cts vs 54 1 2 cts prior qtr pay may 15 record may 1 reuter 3 <PAD> <PAD> <PAD> <PAD> <PAD> <PAD> <PAD> <PAD> <PAD> <PAD> <PAD> <PAD> <PAD> <PAD> <PAD> <PAD> <PAD> <PAD> <PAD> <PAD> <PAD> <PAD> <PAD> <PAD> <PAD> <PAD> <PAD> <PAD> <PAD> <PAD> <PAD> <PAD> <PAD> <PAD> <PAD> <PAD> <PAD> <PAD> <PAD> <PAD> <PAD> <PAD> <PAD> <PAD> <PAD> <PAD> <PAD> <PAD> <PAD> <PAD> <PAD> <PAD> <PAD> <PAD> <PAD> <PAD> <PAD> <PAD> <PAD> <PAD> <PAD> <PAD> <PAD> <PAD> <PAD> <PAD> <PAD> <PAD> <PAD> <PAD> <PAD> <PAD> <PAD> <PAD> <PAD> <PAD> <PAD> <PAD> <PAD> <PAD> <PAD> <PAD> <PAD> <PAD> <PAD> <PAD> <PAD> <PAD> <PAD> <PAD> <PAD> <PAD> <PAD> <PAD> <PAD> <PAD> <PAD> <PAD> <PAD> <PAD> <PAD> <PAD> <PAD> <PAD> <PAD> <PAD> <PAD> <PAD> <PAD> <PAD> <PAD> <PAD> <PAD> <PAD> <PAD> <PAD> <PAD> <PAD> <PAD> <PAD> <PAD> <PAD> <PAD> <PAD> <PAD> <PAD> <PAD> <PAD> <PAD> <PAD> <PAD> <PAD> <PAD> <PAD> <PAD> <PAD> <PAD> <PAD> <PAD> <PAD> <PAD> <PAD> <PAD> <PAD> <PAD> <PAD> <PAD> <PAD> <PAD> <PAD> <PAD> <PAD> <PAD> <PAD> <PAD> <PAD> <PAD> <PAD> <PAD> <PAD> <PAD> <PAD> <PAD> <PAD> <PAD> <PAD> <PAD> <PAD> <PAD> <PAD> <PAD> <PAD> <PAD> <PAD> <PAD> <PAD> <PAD> <PAD> <PAD> <PAD> <PAD> <PAD> <PAD> <PAD> <PAD> <PAD> <PAD> <PAD> <PAD> <PAD> <PAD> <PAD> <PAD> <PAD> <PAD> <PAD> <PAD> <PAD> <PAD> <PAD> <PAD> <PAD> <PAD> <PAD> <PAD> <PAD> <PAD> <PAD> <PAD> <PAD> <PAD> <PAD> <PAD> <PAD> <PAD> <PAD> <PAD> <PAD> <PAD> <PAD> <PAD> <PAD> <PAD> <PAD> <PAD> <PAD> <PAD> <PAD> <PAD> <PAD> <PAD> <PAD> <PAD> <PAD>',\n",
       " 3)"
      ]
     },
     "execution_count": 43,
     "metadata": {},
     "output_type": "execute_result"
    }
   ],
   "source": [
    "decode_review(test_data[np.argmax(errors)]), test_labels[np.argmax(errors)]"
   ]
  },
  {
   "cell_type": "code",
   "execution_count": 44,
   "id": "40f8d2e3",
   "metadata": {},
   "outputs": [
    {
     "data": {
      "application/vnd.jupyter.widget-view+json": {
       "model_id": "8e65a216b3ce499bbc1203401a7f5f2c",
       "version_major": 2,
       "version_minor": 0
      },
      "text/plain": [
       "interactive(children=(IntSlider(value=22, description='n', max=45), Output()), _dom_classes=('widget-interact'…"
      ]
     },
     "metadata": {},
     "output_type": "display_data"
    }
   ],
   "source": [
    "sortedindices = np.argsort(errors)\n",
    "from ipywidgets import interact\n",
    "\n",
    "@interact(n=(0,len(errors)-1))\n",
    "def myf(n):\n",
    "    i = sortedindices[n]\n",
    "    print(f\"index: {i}; test_label {test_labels[i]}; Prediction: {predict[i]}; error: {errors[i]}\")\n",
    "    print(decode_review(test_data[i]))"
   ]
  },
  {
   "cell_type": "code",
   "execution_count": null,
   "id": "19823e03",
   "metadata": {},
   "outputs": [],
   "source": []
  }
 ],
 "metadata": {
  "kernelspec": {
   "display_name": "tensorflow",
   "language": "python",
   "name": "tensorflow"
  },
  "language_info": {
   "codemirror_mode": {
    "name": "ipython",
    "version": 3
   },
   "file_extension": ".py",
   "mimetype": "text/x-python",
   "name": "python",
   "nbconvert_exporter": "python",
   "pygments_lexer": "ipython3",
   "version": "3.8.8"
  }
 },
 "nbformat": 4,
 "nbformat_minor": 5
}
