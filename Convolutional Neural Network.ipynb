{
 "cells": [
  {
   "cell_type": "code",
   "execution_count": 1,
   "id": "c2c593b3",
   "metadata": {},
   "outputs": [
    {
     "name": "stdout",
     "output_type": "stream",
     "text": [
      "2.12.0\n",
      "2.12.0\n"
     ]
    }
   ],
   "source": [
    "# execute this cell before you start\n",
    "\n",
    "import tensorflow as tf\n",
    "from tensorflow.keras import layers\n",
    "import tensorflow.keras as keras\n",
    "\n",
    "# Helper libraries\n",
    "import numpy as np\n",
    "import matplotlib.pyplot as plt\n",
    "\n",
    "print(tf.__version__)\n",
    "print(tf.keras.__version__)\n"
   ]
  },
  {
   "cell_type": "markdown",
   "id": "ca75d198",
   "metadata": {},
   "source": [
    "# The CIFAR-10 dataset\n",
    "\n",
    "\n",
    "Consider the data in  [`keras.datasets.cifar10`](https://www.tensorflow.org/datasets/catalog/cifar10) and train a network which reliably categorizes the data. \n",
    "\n",
    "\n",
    "This dataset has its own [Wikipedia page](https://en.wikipedia.org/wiki/CIFAR-10), and is often used as benchmark for new proposed methods. \n",
    "\n"
   ]
  },
  {
   "cell_type": "code",
   "execution_count": 2,
   "id": "b291b020",
   "metadata": {},
   "outputs": [
    {
     "data": {
      "application/vnd.jupyter.widget-view+json": {
       "model_id": "a5964e3f206347f5bc293d1a0f8c8ce7",
       "version_major": 2,
       "version_minor": 0
      },
      "text/plain": [
       "interactive(children=(IntSlider(value=24999, description='k', max=49999), Output()), _dom_classes=('widget-int…"
      ]
     },
     "metadata": {},
     "output_type": "display_data"
    }
   ],
   "source": [
    "labels = ['airplane', 'automobile', 'bird', 'cat', 'deer', 'dog', 'frog', 'horse', 'ship', 'truck']\n",
    "\n",
    "(train_data,train_labels),(test_data,test_labels) = keras.datasets.cifar10.load_data()\n",
    "\n",
    "\n",
    "from ipywidgets import interact\n",
    "\n",
    "@interact(k=(0, len(train_data)-1))\n",
    "def myplot(k):\n",
    "    fig, ax = plt.subplots(figsize=(6, 6))\n",
    "    ax.set_title(labels[train_labels[k][0]])\n",
    "    ax.imshow(train_data[k])\n"
   ]
  },
  {
   "cell_type": "code",
   "execution_count": null,
   "id": "58b533ea",
   "metadata": {},
   "outputs": [],
   "source": []
  },
  {
   "cell_type": "markdown",
   "id": "c1898ce5",
   "metadata": {},
   "source": [
    "## Check data\n",
    "Since we access the cifar10 dataset from the keras database, then we divide the dataset into a test set and a training set, the main purpose of this is to train the network with the training data, and then test it with the test data Whether the training was successful."
   ]
  },
  {
   "cell_type": "code",
   "execution_count": 3,
   "id": "85c42233",
   "metadata": {},
   "outputs": [
    {
     "data": {
      "application/vnd.jupyter.widget-view+json": {
       "model_id": "380fd12cf1c942dab3f7f3c73ed41fd4",
       "version_major": 2,
       "version_minor": 0
      },
      "text/plain": [
       "interactive(children=(IntSlider(value=24999, description='k', max=49999), Output()), _dom_classes=('widget-int…"
      ]
     },
     "metadata": {},
     "output_type": "display_data"
    }
   ],
   "source": [
    "labels = ['airplane', 'automobile', 'bird', 'cat', 'deer', 'dog', 'frog', 'horse', 'ship', 'truck']\n",
    "\n",
    "(train_data,train_labels),(test_data,test_labels) = keras.datasets.cifar10.load_data()\n",
    "\n",
    "\n",
    "from ipywidgets import interact\n",
    "\n",
    "@interact(k=(0, len(train_data)-1))\n",
    "def myplot(k):\n",
    "    fig, ax = plt.subplots(figsize=(6, 6))\n",
    "    ax.set_title(labels[train_labels[k][0]])\n",
    "    ax.imshow(train_data[k])"
   ]
  },
  {
   "cell_type": "code",
   "execution_count": null,
   "id": "d147ba5d",
   "metadata": {},
   "outputs": [],
   "source": []
  },
  {
   "cell_type": "markdown",
   "id": "a39ee045",
   "metadata": {},
   "source": [
    "Check the type and size of the initial dataset in order to data preprocessing:"
   ]
  },
  {
   "cell_type": "code",
   "execution_count": 4,
   "id": "af6ba683",
   "metadata": {},
   "outputs": [
    {
     "data": {
      "text/plain": [
       "((50000, 32, 32, 3), numpy.ndarray)"
      ]
     },
     "execution_count": 4,
     "metadata": {},
     "output_type": "execute_result"
    }
   ],
   "source": [
    "train_data.shape, type(train_data)"
   ]
  },
  {
   "cell_type": "code",
   "execution_count": 5,
   "id": "ba8c8536",
   "metadata": {},
   "outputs": [
    {
     "data": {
      "text/plain": [
       "((50000, 1), numpy.ndarray)"
      ]
     },
     "execution_count": 5,
     "metadata": {},
     "output_type": "execute_result"
    }
   ],
   "source": [
    "train_labels.shape, type(train_labels)"
   ]
  },
  {
   "cell_type": "code",
   "execution_count": 6,
   "id": "26fd47a4",
   "metadata": {},
   "outputs": [
    {
     "data": {
      "text/plain": [
       "((10000, 32, 32, 3), numpy.ndarray)"
      ]
     },
     "execution_count": 6,
     "metadata": {},
     "output_type": "execute_result"
    }
   ],
   "source": [
    "test_data.shape, type(test_data)"
   ]
  },
  {
   "cell_type": "code",
   "execution_count": 7,
   "id": "82587a26",
   "metadata": {},
   "outputs": [
    {
     "data": {
      "text/plain": [
       "((10000, 1), numpy.ndarray)"
      ]
     },
     "execution_count": 7,
     "metadata": {},
     "output_type": "execute_result"
    }
   ],
   "source": [
    "test_labels.shape, type(test_labels)"
   ]
  },
  {
   "cell_type": "code",
   "execution_count": null,
   "id": "0a94b581",
   "metadata": {},
   "outputs": [],
   "source": []
  },
  {
   "cell_type": "markdown",
   "id": "6a4f7038",
   "metadata": {},
   "source": [
    "## Data preprocessing\n",
    "As we can see here 5000 images are used as training set and 1000 images are used as test set in cifar10 dataset, and all images are 32×23 in size and have three color channels, each image is have corresponding labels. With a basic understanding of the data we have, the next step is to normalize the data by dividing the pixel values of the image into a range of 0 and 1 by dividing by 255."
   ]
  },
  {
   "cell_type": "code",
   "execution_count": 8,
   "id": "39d7d19f",
   "metadata": {},
   "outputs": [],
   "source": [
    "train_data = train_data / 255.0\n",
    "\n",
    "test_data = test_data / 255.0"
   ]
  },
  {
   "cell_type": "markdown",
   "id": "130d3578",
   "metadata": {},
   "source": [
    "- I want to use the flatten layer in the model I designed, so I use the flatten function to make the multi-dimensional input one-dimensional. The advantage of this is to reduce the use of parameters and avoid overfitting.\n",
    "- The reason for using the flatten function is that the fully connected layer cannot be directly connected to the convolutional layer. The data of the Convolution layer needs to be flattened, and then the Dense layer can be added directly."
   ]
  },
  {
   "cell_type": "code",
   "execution_count": 9,
   "id": "995005d5",
   "metadata": {},
   "outputs": [],
   "source": [
    "train_labels, test_labels = train_labels.flatten(), test_labels.flatten()"
   ]
  },
  {
   "cell_type": "markdown",
   "id": "8b526f66",
   "metadata": {},
   "source": [
    " Actually in data preprocessing, I do regularization and use flatten function to process the input data. Then, I built a CNN-based model to process this data."
   ]
  },
  {
   "cell_type": "markdown",
   "id": "f579233b",
   "metadata": {},
   "source": [
    "## Build the model\n",
    "\n",
    "After data preprocessing, I am in a position to build a model. \n",
    "- First, I used a 3×3 convolution kernel for convolution, and set 8 units to divide the input into 8 types, and then used the activation function relu for classification. Besides, the input boundary data will be reduced during the convolution process, padding='same' means padding the boundary data with 0 to keep the convolved data in the same shape and the input shape should be (32,32,3). \n",
    "\n",
    "- The same as before, I use the same structure for the next few layers, the only difference is that I increase the number of units to make the data have more classification results in hidden layers.\n",
    "\n",
    "- Then I used the Flatten layer to expand the array to convert the original 3 lines The array becomes 1 row, namely, compress the data of (height,width,channel) into a one-dimensional array of length height × width × channel.\n",
    "\n",
    "-    In addition, it can be clearly seen that it is a multi-classification problem, in this case, we need the model to output 10 outputs as results for different labels in dense layers, so I use the softmax layer for output."
   ]
  },
  {
   "cell_type": "code",
   "execution_count": 10,
   "id": "81554006",
   "metadata": {},
   "outputs": [
    {
     "name": "stdout",
     "output_type": "stream",
     "text": [
      "Model: \"sequential\"\n",
      "_________________________________________________________________\n",
      " Layer (type)                Output Shape              Param #   \n",
      "=================================================================\n",
      " conv2d (Conv2D)             (None, 32, 32, 8)         224       \n",
      "                                                                 \n",
      " max_pooling2d (MaxPooling2D  (None, 16, 16, 8)        0         \n",
      " )                                                               \n",
      "                                                                 \n",
      " conv2d_1 (Conv2D)           (None, 16, 16, 16)        1168      \n",
      "                                                                 \n",
      " max_pooling2d_1 (MaxPooling  (None, 8, 8, 16)         0         \n",
      " 2D)                                                             \n",
      "                                                                 \n",
      " conv2d_2 (Conv2D)           (None, 8, 8, 32)          4640      \n",
      "                                                                 \n",
      " max_pooling2d_2 (MaxPooling  (None, 4, 4, 32)         0         \n",
      " 2D)                                                             \n",
      "                                                                 \n",
      " flatten (Flatten)           (None, 512)               0         \n",
      "                                                                 \n",
      " dense (Dense)               (None, 32)                16416     \n",
      "                                                                 \n",
      " dense_1 (Dense)             (None, 10)                330       \n",
      "                                                                 \n",
      "=================================================================\n",
      "Total params: 22,778\n",
      "Trainable params: 22,778\n",
      "Non-trainable params: 0\n",
      "_________________________________________________________________\n"
     ]
    }
   ],
   "source": [
    "model = keras.Sequential()\n",
    "model.add(layers.Conv2D(8, (3, 3), activation='relu', padding='same', input_shape=(32, 32, 3)))\n",
    "model.add(layers.MaxPooling2D((2, 2)))\n",
    "\n",
    "model.add(layers.Conv2D(16, (3, 3), activation='relu', padding='same'))\n",
    "model.add(layers.MaxPooling2D((2, 2)))\n",
    "\n",
    "model.add(layers.Conv2D(32, (3, 3), activation='relu', padding='same'))\n",
    "model.add(layers.MaxPooling2D((2, 2)))\n",
    "\n",
    "model.add(layers.Flatten())\n",
    "model.add(layers.Dense(32, activation='relu'))\n",
    "model.add(layers.Dense(10, activation='softmax'))\n",
    "model.summary()\n"
   ]
  },
  {
   "cell_type": "markdown",
   "id": "7fffc804",
   "metadata": {},
   "source": [
    "On the model's optimizer, I chose the adam algorithm with sparse cross-entropy as the loss function.\n",
    "\n",
    "- Why use adam algorithm?  \n",
    "\n",
    "Adaptive moment estimation can achieve good result.\n",
    "\n",
    "- Why use a sparse cross-entropy function instead of a cross-entropy function?  \n",
    "\n",
    "This is because I am not using one-hot encoding, the data is numerically encoded so use the sparse cross entropy function."
   ]
  },
  {
   "cell_type": "code",
   "execution_count": 11,
   "id": "d799af8e",
   "metadata": {},
   "outputs": [],
   "source": [
    "model.compile(optimizer='adam',\n",
    "              loss='sparse_categorical_crossentropy',\n",
    "              metrics=['acc'])"
   ]
  },
  {
   "cell_type": "markdown",
   "id": "9aec465b",
   "metadata": {},
   "source": [
    "When I start to train the model, I set the batch size to 64, this is because I want to increase the utilization of the gpu, reduce the time to process the data and reduce the training oscillation. In order to consider the time to train the data, I set the number of iterations to 10. At the same time, I use the test set in the data as the validation set and split the test in a ratio of 8 to 2."
   ]
  },
  {
   "cell_type": "code",
   "execution_count": 12,
   "id": "c47e2bd8",
   "metadata": {},
   "outputs": [
    {
     "name": "stdout",
     "output_type": "stream",
     "text": [
      "Epoch 1/10\n",
      "782/782 [==============================] - 22s 24ms/step - loss: 1.6976 - acc: 0.3807 - val_loss: 1.4414 - val_acc: 0.4763\n",
      "Epoch 2/10\n",
      "782/782 [==============================] - 17s 22ms/step - loss: 1.3761 - acc: 0.5064 - val_loss: 1.3034 - val_acc: 0.5376\n",
      "Epoch 3/10\n",
      "782/782 [==============================] - 18s 23ms/step - loss: 1.2564 - acc: 0.5522 - val_loss: 1.2115 - val_acc: 0.5716\n",
      "Epoch 4/10\n",
      "782/782 [==============================] - 17s 22ms/step - loss: 1.1824 - acc: 0.5812 - val_loss: 1.1626 - val_acc: 0.5895\n",
      "Epoch 5/10\n",
      "782/782 [==============================] - 16s 20ms/step - loss: 1.1248 - acc: 0.6047 - val_loss: 1.1124 - val_acc: 0.6070\n",
      "Epoch 6/10\n",
      "782/782 [==============================] - 17s 22ms/step - loss: 1.0730 - acc: 0.6218 - val_loss: 1.0804 - val_acc: 0.6201\n",
      "Epoch 7/10\n",
      "782/782 [==============================] - 17s 22ms/step - loss: 1.0324 - acc: 0.6365 - val_loss: 1.0723 - val_acc: 0.6270\n",
      "Epoch 8/10\n",
      "782/782 [==============================] - 18s 23ms/step - loss: 1.0057 - acc: 0.6480 - val_loss: 1.0530 - val_acc: 0.6330\n",
      "Epoch 9/10\n",
      "782/782 [==============================] - 18s 23ms/step - loss: 0.9753 - acc: 0.6580 - val_loss: 1.0148 - val_acc: 0.6446\n",
      "Epoch 10/10\n",
      "782/782 [==============================] - 17s 21ms/step - loss: 0.9515 - acc: 0.6693 - val_loss: 1.0377 - val_acc: 0.6379\n"
     ]
    }
   ],
   "source": [
    "history = model.fit(train_data, train_labels, batch_size=64, epochs=10, validation_split=.2, \n",
    "                    validation_data=(test_data, test_labels), verbose=1)"
   ]
  },
  {
   "cell_type": "markdown",
   "id": "d9b6cd22",
   "metadata": {},
   "source": [
    "By using model.evaluate, we can see the accuracy of this model."
   ]
  },
  {
   "cell_type": "code",
   "execution_count": 13,
   "id": "5d2dd380",
   "metadata": {},
   "outputs": [
    {
     "data": {
      "text/plain": [
       "[1.037697434425354, 0.6378999948501587]"
      ]
     },
     "execution_count": 13,
     "metadata": {},
     "output_type": "execute_result"
    }
   ],
   "source": [
    "model.evaluate(test_data, test_labels, verbose=0)"
   ]
  },
  {
   "cell_type": "code",
   "execution_count": 14,
   "id": "31136089",
   "metadata": {},
   "outputs": [
    {
     "data": {
      "text/plain": [
       "dict_keys(['loss', 'acc', 'val_loss', 'val_acc'])"
      ]
     },
     "execution_count": 14,
     "metadata": {},
     "output_type": "execute_result"
    }
   ],
   "source": [
    "history_dict = history.history\n",
    "history_dict.keys()"
   ]
  },
  {
   "cell_type": "markdown",
   "id": "7f74c7a4",
   "metadata": {},
   "source": [
    "However, in the performance analysis of the model, we also need to consider the loss curve and the accuracy curve to judge whether the model is underfitting, overfitting or good fit.\n",
    "\n",
    "- Underfitting means that the model is unable to find regularities in the data. In other words, it means that the model cannot learn anything useful from the data, and the model will perform poorly on both the training set and the test set.\n",
    "- Overfitting means that the model looks for the rules in the data too precisely so that some noises are also regarded as the rules in the data. The model will perform well in the training set, but it will not perform well in the test set, namely, the generalization ability of the model is poor."
   ]
  },
  {
   "cell_type": "markdown",
   "id": "3c6c3cdf",
   "metadata": {},
   "source": [
    "\n",
    "- Why underfitting?  \n",
    "\n",
    "In the model, the model parameters are too few or the structure is too simple\n",
    "\n",
    "- Solution for underfitting  \n",
    "\n",
    "add more training data\n",
    "Increase the network structure or increase the parameters\n",
    "lower the regularization constraint\n",
    "\n",
    "\n",
    "- Why overfitting?  \n",
    "\n",
    "The amount of data is too small\n",
    "In the model, there are too many model parameters or the structure is too complex\n",
    "\n",
    "- Solution for overfitting  \n",
    "\n",
    "add more training data\n",
    "Reduce the network structure or increase the parameters\n",
    "Add regularization constraints, use L1 regularization, L2 regularization or add dropout layers and batch regularization layers to the model"
   ]
  },
  {
   "cell_type": "code",
   "execution_count": null,
   "id": "f8ee5490",
   "metadata": {},
   "outputs": [],
   "source": []
  },
  {
   "cell_type": "code",
   "execution_count": 15,
   "id": "f26b83db",
   "metadata": {},
   "outputs": [
    {
     "data": {
      "text/plain": [
       "<matplotlib.legend.Legend at 0x2816ec33c40>"
      ]
     },
     "execution_count": 15,
     "metadata": {},
     "output_type": "execute_result"
    },
    {
     "data": {
      "image/png": "[encoded data removed]",
      "text/plain": [
       "<Figure size 432x288 with 1 Axes>"
      ]
     },
     "metadata": {
      "needs_background": "light"
     },
     "output_type": "display_data"
    }
   ],
   "source": [
    "plt.title('Training and validation Loss')\n",
    "plt.plot(history.history['loss'], color='blue', label='train')\n",
    "plt.plot(history.history['val_loss'], color='red', label='test')\n",
    "plt.xlabel('Epochs')\n",
    "plt.ylabel('Loss')\n",
    "plt.legend()"
   ]
  },
  {
   "cell_type": "code",
   "execution_count": null,
   "id": "a59fff8d",
   "metadata": {},
   "outputs": [],
   "source": []
  },
  {
   "cell_type": "code",
   "execution_count": 16,
   "id": "97007a9e",
   "metadata": {},
   "outputs": [
    {
     "data": {
      "text/plain": [
       "<matplotlib.legend.Legend at 0x281676c78e0>"
      ]
     },
     "execution_count": 16,
     "metadata": {},
     "output_type": "execute_result"
    },
    {
     "data": {
      "image/png": "[encoded data removed]",
      "text/plain": [
       "<Figure size 432x288 with 1 Axes>"
      ]
     },
     "metadata": {
      "needs_background": "light"
     },
     "output_type": "display_data"
    }
   ],
   "source": [
    "plt.title('Training and validation Accuracy')\n",
    "plt.plot(history.history['acc'], color='blue', label='train')\n",
    "plt.plot(history.history['val_acc'], color='red', label='test')\n",
    "plt.xlabel('Epochs')\n",
    "plt.ylabel('Accuracy')\n",
    "plt.legend()"
   ]
  },
  {
   "cell_type": "markdown",
   "id": "f4ff137c",
   "metadata": {},
   "source": [
    "Through the loss curve and acc curve, we can see that in the first model, the loss curve of the test set as the validation set is larger than the training set as the number of iterations increases, so it can be judged that the model is overfitting, so in my In the next model, I added a dropout layer to reduce overfitting."
   ]
  },
  {
   "cell_type": "code",
   "execution_count": null,
   "id": "2ad6408d",
   "metadata": {},
   "outputs": [],
   "source": []
  },
  {
   "cell_type": "markdown",
   "id": "e9223511",
   "metadata": {},
   "source": [
    "## Dropout layer\n",
    "\n",
    "The difference between this model and the first model is that a dropout layer is added. 0.1 in the dropout layer means that the output is discarded according to the probability of 0.1 to reduce model overfitting."
   ]
  },
  {
   "cell_type": "code",
   "execution_count": 17,
   "id": "b3a3848b",
   "metadata": {},
   "outputs": [
    {
     "name": "stdout",
     "output_type": "stream",
     "text": [
      "Model: \"sequential_1\"\n",
      "_________________________________________________________________\n",
      " Layer (type)                Output Shape              Param #   \n",
      "=================================================================\n",
      " conv2d_3 (Conv2D)           (None, 32, 32, 8)         224       \n",
      "                                                                 \n",
      " max_pooling2d_3 (MaxPooling  (None, 16, 16, 8)        0         \n",
      " 2D)                                                             \n",
      "                                                                 \n",
      " conv2d_4 (Conv2D)           (None, 16, 16, 16)        1168      \n",
      "                                                                 \n",
      " max_pooling2d_4 (MaxPooling  (None, 8, 8, 16)         0         \n",
      " 2D)                                                             \n",
      "                                                                 \n",
      " conv2d_5 (Conv2D)           (None, 8, 8, 32)          4640      \n",
      "                                                                 \n",
      " max_pooling2d_5 (MaxPooling  (None, 4, 4, 32)         0         \n",
      " 2D)                                                             \n",
      "                                                                 \n",
      " flatten_1 (Flatten)         (None, 512)               0         \n",
      "                                                                 \n",
      " dropout (Dropout)           (None, 512)               0         \n",
      "                                                                 \n",
      " dense_2 (Dense)             (None, 32)                16416     \n",
      "                                                                 \n",
      " dense_3 (Dense)             (None, 10)                330       \n",
      "                                                                 \n",
      "=================================================================\n",
      "Total params: 22,778\n",
      "Trainable params: 22,778\n",
      "Non-trainable params: 0\n",
      "_________________________________________________________________\n"
     ]
    }
   ],
   "source": [
    "model2 = keras.Sequential()\n",
    "model2.add(layers.Conv2D(8, (3, 3), activation='relu', padding='same', input_shape=(32, 32, 3)))\n",
    "model2.add(layers.MaxPooling2D((2, 2)))\n",
    "\n",
    "model2.add(layers.Conv2D(16, (3, 3), activation='relu', padding='same'))\n",
    "model2.add(layers.MaxPooling2D((2, 2)))\n",
    "\n",
    "model2.add(layers.Conv2D(32, (3, 3), activation='relu', padding='same'))\n",
    "model2.add(layers.MaxPooling2D((2, 2)))\n",
    "\n",
    "model2.add(layers.Flatten())\n",
    "model2.add(layers.Dropout(0.1))\n",
    "model2.add(layers.Dense(32, activation='relu'))\n",
    "model2.add(layers.Dense(10, activation='softmax'))\n",
    "\n",
    "model2.summary()"
   ]
  },
  {
   "cell_type": "markdown",
   "id": "fb9a6dab",
   "metadata": {},
   "source": [
    "I didn't change the optimizer and loss function because I would like to just compare the effect of adding dropout layers on the model."
   ]
  },
  {
   "cell_type": "code",
   "execution_count": 18,
   "id": "4bdf415c",
   "metadata": {},
   "outputs": [],
   "source": [
    "model2.compile(optimizer='adam',\n",
    "              loss='sparse_categorical_crossentropy',\n",
    "              metrics=['acc'])"
   ]
  },
  {
   "cell_type": "code",
   "execution_count": 19,
   "id": "d600dc25",
   "metadata": {},
   "outputs": [
    {
     "name": "stdout",
     "output_type": "stream",
     "text": [
      "Epoch 1/10\n",
      "782/782 [==============================] - 17s 21ms/step - loss: 1.6991 - acc: 0.3796 - val_loss: 1.4293 - val_acc: 0.4904\n",
      "Epoch 2/10\n",
      "782/782 [==============================] - 18s 23ms/step - loss: 1.4040 - acc: 0.4969 - val_loss: 1.2976 - val_acc: 0.5385\n",
      "Epoch 3/10\n",
      "782/782 [==============================] - 18s 23ms/step - loss: 1.2828 - acc: 0.5439 - val_loss: 1.2360 - val_acc: 0.5587\n",
      "Epoch 4/10\n",
      "782/782 [==============================] - 18s 23ms/step - loss: 1.1916 - acc: 0.5804 - val_loss: 1.1355 - val_acc: 0.5996\n",
      "Epoch 5/10\n",
      "782/782 [==============================] - 17s 21ms/step - loss: 1.1341 - acc: 0.6005 - val_loss: 1.1029 - val_acc: 0.6132\n",
      "Epoch 6/10\n",
      "782/782 [==============================] - 20s 25ms/step - loss: 1.0899 - acc: 0.6164 - val_loss: 1.0583 - val_acc: 0.6308\n",
      "Epoch 7/10\n",
      "782/782 [==============================] - 17s 22ms/step - loss: 1.0567 - acc: 0.6307 - val_loss: 1.0445 - val_acc: 0.6383\n",
      "Epoch 8/10\n",
      "782/782 [==============================] - 17s 22ms/step - loss: 1.0281 - acc: 0.6393 - val_loss: 1.0154 - val_acc: 0.6429\n",
      "Epoch 9/10\n",
      "782/782 [==============================] - 18s 23ms/step - loss: 1.0034 - acc: 0.6475 - val_loss: 1.0081 - val_acc: 0.6458\n",
      "Epoch 10/10\n",
      "782/782 [==============================] - 18s 23ms/step - loss: 0.9812 - acc: 0.6562 - val_loss: 0.9994 - val_acc: 0.6550\n"
     ]
    }
   ],
   "source": [
    "history2 = model2.fit(train_data, train_labels, batch_size=64, epochs=10, validation_split=.2, \n",
    "                      validation_data=(test_data, test_labels), verbose=1)"
   ]
  },
  {
   "cell_type": "markdown",
   "id": "8cdebedc",
   "metadata": {},
   "source": [
    "The same as the first model, by using model.evaluate, we can see the accuracy of this model."
   ]
  },
  {
   "cell_type": "code",
   "execution_count": 20,
   "id": "d1c0da0e",
   "metadata": {},
   "outputs": [
    {
     "data": {
      "text/plain": [
       "[0.9993571043014526, 0.6549999713897705]"
      ]
     },
     "execution_count": 20,
     "metadata": {},
     "output_type": "execute_result"
    }
   ],
   "source": [
    "model2.evaluate(test_data, test_labels, verbose=0)"
   ]
  },
  {
   "cell_type": "code",
   "execution_count": 21,
   "id": "63f4e19c",
   "metadata": {},
   "outputs": [
    {
     "data": {
      "text/plain": [
       "dict_keys(['loss', 'acc', 'val_loss', 'val_acc'])"
      ]
     },
     "execution_count": 21,
     "metadata": {},
     "output_type": "execute_result"
    }
   ],
   "source": [
    "history_dict2 = history2.history\n",
    "history_dict2.keys()"
   ]
  },
  {
   "cell_type": "code",
   "execution_count": null,
   "id": "90189571",
   "metadata": {},
   "outputs": [],
   "source": []
  },
  {
   "cell_type": "code",
   "execution_count": 22,
   "id": "7abb8ff7",
   "metadata": {},
   "outputs": [
    {
     "data": {
      "text/plain": [
       "<matplotlib.legend.Legend at 0x28168976790>"
      ]
     },
     "execution_count": 22,
     "metadata": {},
     "output_type": "execute_result"
    },
    {
     "data": {
      "image/png": "[encoded data removed]",
      "text/plain": [
       "<Figure size 432x288 with 1 Axes>"
      ]
     },
     "metadata": {
      "needs_background": "light"
     },
     "output_type": "display_data"
    }
   ],
   "source": [
    "plt.title('Training and validation Loss')\n",
    "plt.plot(history2.history['loss'], color='blue', label='train')\n",
    "plt.plot(history2.history['val_loss'], color='red', label='test')\n",
    "plt.xlabel('Epochs')\n",
    "plt.ylabel('Loss')\n",
    "plt.legend()"
   ]
  },
  {
   "cell_type": "code",
   "execution_count": null,
   "id": "934b69e7",
   "metadata": {},
   "outputs": [],
   "source": []
  },
  {
   "cell_type": "code",
   "execution_count": 23,
   "id": "5989312d",
   "metadata": {},
   "outputs": [
    {
     "data": {
      "text/plain": [
       "<matplotlib.legend.Legend at 0x281689664f0>"
      ]
     },
     "execution_count": 23,
     "metadata": {},
     "output_type": "execute_result"
    },
    {
     "data": {
      "image/png": "[encoded data removed]",
      "text/plain": [
       "<Figure size 432x288 with 1 Axes>"
      ]
     },
     "metadata": {
      "needs_background": "light"
     },
     "output_type": "display_data"
    }
   ],
   "source": [
    "plt.title('Training and validation Accuracy')\n",
    "plt.plot(history2.history['acc'], color='blue', label='train')\n",
    "plt.plot(history2.history['val_acc'], color='red', label='test')\n",
    "plt.xlabel('Epochs')\n",
    "plt.ylabel('Loss')\n",
    "plt.legend()"
   ]
  },
  {
   "cell_type": "markdown",
   "id": "2deaa36d",
   "metadata": {},
   "source": [
    "From the second model we can see that the degree of overfitting is reduced after using dropout regularization, in model2 we are able to get a good fit.\n",
    "\n",
    "It is worth noting that the dropout layer I use means discarding some rules found by the model, so the accuracy of this model for identifying data may decrease."
   ]
  },
  {
   "cell_type": "code",
   "execution_count": null,
   "id": "60ae6594",
   "metadata": {},
   "outputs": [],
   "source": []
  },
  {
   "cell_type": "markdown",
   "id": "a10e3a28",
   "metadata": {},
   "source": [
    "## Batch Normalization"
   ]
  },
  {
   "cell_type": "markdown",
   "id": "00b27b35",
   "metadata": {},
   "source": [
    "In my third model I used BatchNormalization as one of the regularization methods. The difference between it and the dropout layer is that the dropout layer is usually added in the fully connected layer. BatchNormalization can be added during convolution to make the model more stable.  \n",
    "\n",
    "As we can see here, I add many BatchNormalization layers after convolution, pooling and flatten\n",
    "\n",
    "BatchNormalization can reduce training time and improve accuracy by readjusting the distribution of data so that the output of each layer obeys a normal distribution with a mean of 0 and a variance of 1."
   ]
  },
  {
   "cell_type": "code",
   "execution_count": 24,
   "id": "ee8353b3",
   "metadata": {},
   "outputs": [
    {
     "name": "stdout",
     "output_type": "stream",
     "text": [
      "Model: \"sequential_2\"\n",
      "_________________________________________________________________\n",
      " Layer (type)                Output Shape              Param #   \n",
      "=================================================================\n",
      " conv2d_6 (Conv2D)           (None, 32, 32, 8)         224       \n",
      "                                                                 \n",
      " max_pooling2d_6 (MaxPooling  (None, 16, 16, 8)        0         \n",
      " 2D)                                                             \n",
      "                                                                 \n",
      " batch_normalization (BatchN  (None, 16, 16, 8)        32        \n",
      " ormalization)                                                   \n",
      "                                                                 \n",
      " conv2d_7 (Conv2D)           (None, 16, 16, 16)        1168      \n",
      "                                                                 \n",
      " max_pooling2d_7 (MaxPooling  (None, 8, 8, 16)         0         \n",
      " 2D)                                                             \n",
      "                                                                 \n",
      " batch_normalization_1 (Batc  (None, 8, 8, 16)         64        \n",
      " hNormalization)                                                 \n",
      "                                                                 \n",
      " conv2d_8 (Conv2D)           (None, 8, 8, 32)          4640      \n",
      "                                                                 \n",
      " max_pooling2d_8 (MaxPooling  (None, 4, 4, 32)         0         \n",
      " 2D)                                                             \n",
      "                                                                 \n",
      " batch_normalization_2 (Batc  (None, 4, 4, 32)         128       \n",
      " hNormalization)                                                 \n",
      "                                                                 \n",
      " flatten_2 (Flatten)         (None, 512)               0         \n",
      "                                                                 \n",
      " dense_4 (Dense)             (None, 32)                16416     \n",
      "                                                                 \n",
      " dense_5 (Dense)             (None, 10)                330       \n",
      "                                                                 \n",
      "=================================================================\n",
      "Total params: 23,002\n",
      "Trainable params: 22,890\n",
      "Non-trainable params: 112\n",
      "_________________________________________________________________\n"
     ]
    }
   ],
   "source": [
    "from keras.layers import BatchNormalization\n",
    "model3 = keras.Sequential()\n",
    "model3.add(layers.Conv2D(8, (3, 3), activation='relu', padding='same', input_shape=(32, 32, 3)))\n",
    "model3.add(layers.MaxPooling2D((2, 2)))\n",
    "model3.add(BatchNormalization())\n",
    "\n",
    "model3.add(layers.Conv2D(16, (3, 3), activation='relu', padding='same'))\n",
    "model3.add(layers.MaxPooling2D((2, 2)))\n",
    "model3.add(BatchNormalization())\n",
    "\n",
    "model3.add(layers.Conv2D(32, (3, 3), activation='relu', padding='same'))\n",
    "model3.add(layers.MaxPooling2D((2, 2)))\n",
    "model3.add(BatchNormalization())\n",
    "\n",
    "model3.add(layers.Flatten())\n",
    "model3.add(layers.Dense(32, activation='relu'))\n",
    "model3.add(layers.Dense(10, activation='softmax'))\n",
    "\n",
    "model3.compile(optimizer='adam',\n",
    "              loss='sparse_categorical_crossentropy',\n",
    "              metrics=['acc'])\n",
    "\n",
    "model3.summary()"
   ]
  },
  {
   "cell_type": "code",
   "execution_count": 25,
   "id": "1eda1025",
   "metadata": {},
   "outputs": [
    {
     "name": "stdout",
     "output_type": "stream",
     "text": [
      "Epoch 1/10\n",
      "782/782 [==============================] - 20s 23ms/step - loss: 1.4898 - acc: 0.4702 - val_loss: 1.3074 - val_acc: 0.5357\n",
      "Epoch 2/10\n",
      "782/782 [==============================] - 18s 23ms/step - loss: 1.1315 - acc: 0.6018 - val_loss: 1.3430 - val_acc: 0.5299\n",
      "Epoch 3/10\n",
      "782/782 [==============================] - 18s 22ms/step - loss: 1.0034 - acc: 0.6487 - val_loss: 1.0628 - val_acc: 0.6225\n",
      "Epoch 4/10\n",
      "782/782 [==============================] - 18s 23ms/step - loss: 0.9207 - acc: 0.6741 - val_loss: 1.2473 - val_acc: 0.5767\n",
      "Epoch 5/10\n",
      "782/782 [==============================] - 18s 23ms/step - loss: 0.8634 - acc: 0.6949 - val_loss: 0.9670 - val_acc: 0.6643\n",
      "Epoch 6/10\n",
      "782/782 [==============================] - 20s 25ms/step - loss: 0.8229 - acc: 0.7100 - val_loss: 0.9805 - val_acc: 0.6617\n",
      "Epoch 7/10\n",
      "782/782 [==============================] - 19s 24ms/step - loss: 0.7855 - acc: 0.7232 - val_loss: 1.0413 - val_acc: 0.6487\n",
      "Epoch 8/10\n",
      "782/782 [==============================] - 20s 25ms/step - loss: 0.7585 - acc: 0.7332 - val_loss: 0.9749 - val_acc: 0.6671\n",
      "Epoch 9/10\n",
      "782/782 [==============================] - 20s 25ms/step - loss: 0.7370 - acc: 0.7410 - val_loss: 0.9515 - val_acc: 0.6769\n",
      "Epoch 10/10\n",
      "782/782 [==============================] - 20s 25ms/step - loss: 0.7118 - acc: 0.7490 - val_loss: 0.9813 - val_acc: 0.6696\n"
     ]
    }
   ],
   "source": [
    "history3 = model3.fit(train_data, train_labels, batch_size=64, epochs=10, validation_split=.2, \n",
    "                      validation_data=(test_data, test_labels), verbose=1)"
   ]
  },
  {
   "cell_type": "markdown",
   "id": "5223d930",
   "metadata": {},
   "source": [
    "Normally, we can find that using the BatchNormalization layer can further improve the accuracy of the model."
   ]
  },
  {
   "cell_type": "code",
   "execution_count": 26,
   "id": "efe08bef",
   "metadata": {},
   "outputs": [
    {
     "data": {
      "text/plain": [
       "[0.9813050627708435, 0.6696000099182129]"
      ]
     },
     "execution_count": 26,
     "metadata": {},
     "output_type": "execute_result"
    }
   ],
   "source": [
    "model3.evaluate(test_data, test_labels, verbose=0)"
   ]
  },
  {
   "cell_type": "code",
   "execution_count": 27,
   "id": "18e7272e",
   "metadata": {},
   "outputs": [
    {
     "data": {
      "text/plain": [
       "dict_keys(['loss', 'acc', 'val_loss', 'val_acc'])"
      ]
     },
     "execution_count": 27,
     "metadata": {},
     "output_type": "execute_result"
    }
   ],
   "source": [
    "history_dict3 = history3.history\n",
    "history_dict3.keys()"
   ]
  },
  {
   "cell_type": "code",
   "execution_count": null,
   "id": "4ebce3db",
   "metadata": {},
   "outputs": [],
   "source": []
  },
  {
   "cell_type": "code",
   "execution_count": 28,
   "id": "4bbec834",
   "metadata": {},
   "outputs": [
    {
     "data": {
      "text/plain": [
       "<matplotlib.legend.Legend at 0x2816a54e7f0>"
      ]
     },
     "execution_count": 28,
     "metadata": {},
     "output_type": "execute_result"
    },
    {
     "data": {
      "image/png": "[encoded data removed]",
      "text/plain": [
       "<Figure size 432x288 with 1 Axes>"
      ]
     },
     "metadata": {
      "needs_background": "light"
     },
     "output_type": "display_data"
    }
   ],
   "source": [
    "plt.title('Training and validation Loss')\n",
    "plt.plot(history3.history['loss'], color='blue', label='train')\n",
    "plt.plot(history3.history['val_loss'], color='red', label='test')\n",
    "plt.xlabel('Epochs')\n",
    "plt.ylabel('Loss')\n",
    "plt.legend()"
   ]
  },
  {
   "cell_type": "code",
   "execution_count": null,
   "id": "2cb3b9b0",
   "metadata": {},
   "outputs": [],
   "source": []
  },
  {
   "cell_type": "code",
   "execution_count": 30,
   "id": "1417c321",
   "metadata": {},
   "outputs": [
    {
     "data": {
      "text/plain": [
       "<matplotlib.legend.Legend at 0x2816a5e7a60>"
      ]
     },
     "execution_count": 30,
     "metadata": {},
     "output_type": "execute_result"
    },
    {
     "data": {
      "image/png": "[encoded data removed]",
      "text/plain": [
       "<Figure size 432x288 with 1 Axes>"
      ]
     },
     "metadata": {
      "needs_background": "light"
     },
     "output_type": "display_data"
    }
   ],
   "source": [
    "plt.title('Training and validation Accuracy')\n",
    "plt.plot(history3.history['acc'], color='blue', label='train')\n",
    "plt.plot(history3.history['val_acc'], color='red', label='test')\n",
    "plt.xlabel('Epochs')\n",
    "plt.ylabel('Loss')\n",
    "plt.legend()"
   ]
  },
  {
   "cell_type": "code",
   "execution_count": null,
   "id": "3aa18fc3",
   "metadata": {},
   "outputs": [],
   "source": []
  },
  {
   "cell_type": "markdown",
   "id": "60c12efd",
   "metadata": {},
   "source": [
    "# CA\n",
    "From the training results of the third model, Why did I use BatchNormalization regularization in model 3 but overfit?  \n",
    "\n",
    "This is because I added a lot of BatchNormalization to the model to make the model more complex. At the same time, when using Batch Normalization for training, because mean and var are constantly recalculated with the model training, when the Batch Size is too small, the model will become more difficult to fit, and the Loss curve will oscillate.\n",
    "\n",
    "Therefore, when using Batch Normalization for training, we also need to consider the complexity of the model and the size of the batch size"
   ]
  },
  {
   "cell_type": "markdown",
   "id": "c8872c7e",
   "metadata": {},
   "source": [
    "\n",
    "- What increases computing time?  \n",
    "\n",
    "The complexity of the structure of the model, the number of units of the model, the number of data, the number of iterations.\n",
    "\n",
    "- What increases accuracy?  \n",
    "\n",
    "Get more data, add more layers in the model to make the model deeper, increase the number of trainings, change the image too small or reduce the color channel, change the size of the convolution kernel, consider different parameters such as learning rate, activation function, Loss functions, optimizers or reduce regularization."
   ]
  },
  {
   "cell_type": "markdown",
   "id": "09125b38",
   "metadata": {},
   "source": [
    "### Conclusion: \n",
    "\n",
    "In question 1, I built three different models. In the first model I built, I found that my model was overfitting through the loss curve and acc curve, so I used the regularization method of dropout layer to reduce overfitting. It can be seen that the degree of overfitting in the second model is reduced, but there is still overfitting, so I continue to use the BatchNormalization layer to reduce overfitting and improve the accuracy of the model, and finally get a better performance than the first two models. \n",
    "\n",
    "The situation of overfitting may be that the structure of my first model setting is complicated, or there is not enough data for the model to learn. In fact, I can also use data augmentation to increase the amount of data or I can change the parameters in the model such as the learning rate to improve the accuracy of the model."
   ]
  },
  {
   "cell_type": "code",
   "execution_count": null,
   "id": "4f45c478",
   "metadata": {},
   "outputs": [],
   "source": []
  }
 ],
 "metadata": {
  "kernelspec": {
   "display_name": "tensorflow",
   "language": "python",
   "name": "tensorflow"
  },
  "language_info": {
   "codemirror_mode": {
    "name": "ipython",
    "version": 3
   },
   "file_extension": ".py",
   "mimetype": "text/x-python",
   "name": "python",
   "nbconvert_exporter": "python",
   "pygments_lexer": "ipython3",
   "version": "3.8.8"
  }
 },
 "nbformat": 4,
 "nbformat_minor": 5
}
